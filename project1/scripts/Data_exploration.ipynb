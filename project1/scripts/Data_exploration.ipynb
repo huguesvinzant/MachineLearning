{
 "cells": [
  {
   "cell_type": "code",
   "execution_count": 2,
   "metadata": {},
   "outputs": [],
   "source": [
    "# Useful starting lines\n",
    "%matplotlib inline\n",
    "import numpy as np\n",
    "import matplotlib.pyplot as plt\n",
    "%load_ext autoreload\n",
    "%autoreload 2"
   ]
  },
  {
   "cell_type": "code",
   "execution_count": 3,
   "metadata": {},
   "outputs": [],
   "source": [
    "#Data Generation"
   ]
  },
  {
   "cell_type": "code",
   "execution_count": 4,
   "metadata": {},
   "outputs": [],
   "source": [
    "from proj1_helpers import *\n",
    "\n",
    "labels, features, indices = load_csv_data('train.csv', sub_sample=False)\n",
    "# b(background) -> -1 and s(signal) -> 1"
   ]
  },
  {
   "cell_type": "code",
   "execution_count": 6,
   "metadata": {},
   "outputs": [
    {
     "name": "stdout",
     "output_type": "stream",
     "text": [
      "[ 2.74399774e-04 -8.81118331e-03 -1.66993563e-03 -1.35826773e-03\n",
      "  2.18409937e-04  6.28062814e-04 -1.42250015e-03  1.65909683e-03\n",
      " -8.17620432e-05  2.63351851e-03 -1.54787003e-03  3.88486383e-03\n",
      "  6.19900948e-04  6.19001938e-03 -4.73878671e-05 -2.65346204e-04\n",
      "  1.32206469e-03 -6.07759931e-05  1.99297029e-04  4.20603044e-03\n",
      "  8.62878297e-05 -7.33832031e-04 -1.28725112e-03  1.09973808e-03\n",
      " -4.98935375e-04 -4.52710376e-04 -1.02293462e-04  1.72273626e-04\n",
      "  1.29716901e-05 -4.87852712e-03]\n"
     ]
    },
    {
     "data": {
      "text/plain": [
       "(array([ 2.74399774e-04, -8.81118331e-03, -1.66993563e-03, -1.35826773e-03,\n",
       "         2.18409937e-04,  6.28062814e-04, -1.42250015e-03,  1.65909683e-03,\n",
       "        -8.17620432e-05,  2.63351851e-03, -1.54787003e-03,  3.88486383e-03,\n",
       "         6.19900948e-04,  6.19001938e-03, -4.73878671e-05, -2.65346204e-04,\n",
       "         1.32206469e-03, -6.07759931e-05,  1.99297029e-04,  4.20603044e-03,\n",
       "         8.62878297e-05, -7.33832031e-04, -1.28725112e-03,  1.09973808e-03,\n",
       "        -4.98935375e-04, -4.52710376e-04, -1.02293462e-04,  1.72273626e-04,\n",
       "         1.29716901e-05, -4.87852712e-03]), 0.3567365083529938)"
      ]
     },
     "execution_count": 6,
     "metadata": {},
     "output_type": "execute_result"
    }
   ],
   "source": [
    "from implementations import *\n"
   ]
  },
  {
   "cell_type": "code",
   "execution_count": null,
   "metadata": {},
   "outputs": [],
   "source": []
  }
 ],
 "metadata": {
  "kernelspec": {
   "display_name": "Python 3",
   "language": "python",
   "name": "python3"
  },
  "language_info": {
   "codemirror_mode": {
    "name": "ipython",
    "version": 3
   },
   "file_extension": ".py",
   "mimetype": "text/x-python",
   "name": "python",
   "nbconvert_exporter": "python",
   "pygments_lexer": "ipython3",
   "version": "3.6.5"
  }
 },
 "nbformat": 4,
 "nbformat_minor": 2
}
