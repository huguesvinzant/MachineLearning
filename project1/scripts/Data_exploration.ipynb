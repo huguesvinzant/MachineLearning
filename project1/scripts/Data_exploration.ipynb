{
 "cells": [
  {
   "cell_type": "code",
   "execution_count": 24,
   "metadata": {},
   "outputs": [
    {
     "name": "stdout",
     "output_type": "stream",
     "text": [
      "The autoreload extension is already loaded. To reload it, use:\n",
      "  %reload_ext autoreload\n"
     ]
    }
   ],
   "source": [
    "# Useful starting lines\n",
    "%matplotlib inline\n",
    "import numpy as np\n",
    "import matplotlib.pyplot as plt\n",
    "%load_ext autoreload\n",
    "%autoreload 2\n",
    "\n",
    "from implementations import *\n",
    "from utilitaries import *"
   ]
  },
  {
   "cell_type": "markdown",
   "metadata": {},
   "source": [
    "Data Generation\n",
    "==="
   ]
  },
  {
   "cell_type": "code",
   "execution_count": 16,
   "metadata": {},
   "outputs": [
    {
     "name": "stdout",
     "output_type": "stream",
     "text": [
      "[100000 100001 100002 ... 349997 349998 349999]\n"
     ]
    }
   ],
   "source": [
    "from proj1_helpers import *\n",
    "\n",
    "labels, features, indices = load_csv_data('train.csv', sub_sample=False)\n",
    "# b(background) -> -1 and s(signal) -> 1\n",
    "\n",
    "print(indices)"
   ]
  },
  {
   "cell_type": "code",
   "execution_count": 22,
   "metadata": {},
   "outputs": [
    {
     "data": {
      "text/plain": [
       "(array([7.4421e+04, 5.8780e+03, 2.0904e+04, 1.0152e+04, 8.3610e+03,\n",
       "        6.7980e+03, 5.8380e+03, 4.7790e+03, 4.1170e+03, 3.4130e+03,\n",
       "        2.8650e+03, 2.5600e+03, 2.0640e+03, 1.7790e+03, 1.5120e+03,\n",
       "        1.2500e+03, 1.0960e+03, 8.9500e+02, 7.4500e+02, 6.7300e+02,\n",
       "        6.0400e+02, 4.8900e+02, 4.0500e+02, 3.6600e+02, 3.5100e+02,\n",
       "        2.5200e+02, 2.1500e+02, 2.0600e+02, 1.9500e+02, 1.2600e+02,\n",
       "        1.1600e+02, 1.1100e+02, 9.3000e+01, 8.7000e+01, 7.3000e+01,\n",
       "        5.6000e+01, 5.3000e+01, 5.0000e+01, 5.1000e+01, 4.6000e+01,\n",
       "        3.6000e+01, 2.7000e+01, 1.8000e+01, 2.0000e+01, 2.0000e+01,\n",
       "        1.9000e+01, 1.1000e+01, 1.1000e+01, 9.0000e+00, 1.7000e+01,\n",
       "        9.0000e+00, 9.0000e+00, 6.0000e+00, 9.0000e+00, 8.0000e+00,\n",
       "        4.0000e+00, 6.0000e+00, 4.0000e+00, 4.0000e+00, 4.0000e+00,\n",
       "        3.0000e+00, 0.0000e+00, 5.0000e+00, 3.0000e+00, 1.0000e+00,\n",
       "        0.0000e+00, 3.0000e+00, 2.0000e+00, 1.0000e+00, 1.0000e+00,\n",
       "        1.0000e+00, 4.0000e+00, 3.0000e+00, 1.0000e+00, 0.0000e+00,\n",
       "        0.0000e+00, 1.0000e+00, 1.0000e+00, 0.0000e+00, 0.0000e+00,\n",
       "        0.0000e+00, 0.0000e+00, 0.0000e+00, 0.0000e+00, 0.0000e+00,\n",
       "        1.0000e+00, 2.0000e+00, 0.0000e+00, 1.0000e+00, 0.0000e+00,\n",
       "        0.0000e+00, 0.0000e+00, 0.0000e+00, 0.0000e+00, 0.0000e+00,\n",
       "        0.0000e+00, 1.0000e+00, 0.0000e+00, 1.0000e+00, 1.0000e+00]),\n",
       " array([   0.     ,   16.33433,   32.66866,   49.00299,   65.33732,\n",
       "          81.67165,   98.00598,  114.34031,  130.67464,  147.00897,\n",
       "         163.3433 ,  179.67763,  196.01196,  212.34629,  228.68062,\n",
       "         245.01495,  261.34928,  277.68361,  294.01794,  310.35227,\n",
       "         326.6866 ,  343.02093,  359.35526,  375.68959,  392.02392,\n",
       "         408.35825,  424.69258,  441.02691,  457.36124,  473.69557,\n",
       "         490.0299 ,  506.36423,  522.69856,  539.03289,  555.36722,\n",
       "         571.70155,  588.03588,  604.37021,  620.70454,  637.03887,\n",
       "         653.3732 ,  669.70753,  686.04186,  702.37619,  718.71052,\n",
       "         735.04485,  751.37918,  767.71351,  784.04784,  800.38217,\n",
       "         816.7165 ,  833.05083,  849.38516,  865.71949,  882.05382,\n",
       "         898.38815,  914.72248,  931.05681,  947.39114,  963.72547,\n",
       "         980.0598 ,  996.39413, 1012.72846, 1029.06279, 1045.39712,\n",
       "        1061.73145, 1078.06578, 1094.40011, 1110.73444, 1127.06877,\n",
       "        1143.4031 , 1159.73743, 1176.07176, 1192.40609, 1208.74042,\n",
       "        1225.07475, 1241.40908, 1257.74341, 1274.07774, 1290.41207,\n",
       "        1306.7464 , 1323.08073, 1339.41506, 1355.74939, 1372.08372,\n",
       "        1388.41805, 1404.75238, 1421.08671, 1437.42104, 1453.75537,\n",
       "        1470.0897 , 1486.42403, 1502.75836, 1519.09269, 1535.42702,\n",
       "        1551.76135, 1568.09568, 1584.43001, 1600.76434, 1617.09867,\n",
       "        1633.433  ]),\n",
       " <a list of 100 Patch objects>)"
      ]
     },
     "execution_count": 22,
     "metadata": {},
     "output_type": "execute_result"
    },
    {
     "data": {
      "image/png": "[encoded data removed]",
      "text/plain": [
       "<Figure size 432x288 with 8 Axes>"
      ]
     },
     "metadata": {},
     "output_type": "display_data"
    }
   ],
   "source": [
    "features = remove_meaningless_data(features)\n",
    "plt.subplot(4,2,1)\n",
    "plt.hist(features[labels == 1,5][~np.isnan(features[labels == 1,5])], 100) #signal\n",
    "plt.subplot(4,2,2)\n",
    "plt.hist(features[labels == -1,5][~np.isnan(features[labels == -1,5])], 100) #background\n",
    "\n",
    "plt.subplot(4,2,3)\n",
    "plt.hist(features[labels == 1,10][~np.isnan(features[labels == 1,10])], 100) #signal\n",
    "plt.subplot(4,2,4)\n",
    "plt.hist(features[labels == -1,10][~np.isnan(features[labels == -1,10])], 100) #background\n",
    "\n",
    "plt.subplot(4,2,5)\n",
    "plt.hist(features[labels == 1,20][~np.isnan(features[labels == 1,20])], 100) #signal\n",
    "plt.subplot(4,2,6)\n",
    "plt.hist(features[labels == -1,20][~np.isnan(features[labels == -1,20])], 100) #background\n",
    "\n",
    "\n",
    "plt.subplot(4,2,7)\n",
    "plt.hist(features[labels == 1,29][~np.isnan(features[labels == 1,29])], 100) #signal\n",
    "plt.subplot(4,2,8)\n",
    "plt.hist(features[labels == -1,29][~np.isnan(features[labels == -1,29])], 100) #background\n"
   ]
  },
  {
   "cell_type": "code",
   "execution_count": 27,
   "metadata": {},
   "outputs": [
    {
     "name": "stdout",
     "output_type": "stream",
     "text": [
      "[-0.62125844         nan         nan ...         nan         nan\n",
      "         nan]\n"
     ]
    }
   ],
   "source": [
    "std_features = standardize(features)\n",
    "print(std_features[:,5])"
   ]
  }
 ],
 "metadata": {
  "kernelspec": {
   "display_name": "Python 3",
   "language": "python",
   "name": "python3"
  },
  "language_info": {
   "codemirror_mode": {
    "name": "ipython",
    "version": 3
   },
   "file_extension": ".py",
   "mimetype": "text/x-python",
   "name": "python",
   "nbconvert_exporter": "python",
   "pygments_lexer": "ipython3",
   "version": "3.6.5"
  }
 },
 "nbformat": 4,
 "nbformat_minor": 2
}
