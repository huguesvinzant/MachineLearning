{
 "cells": [
  {
   "cell_type": "code",
   "execution_count": 1,
   "metadata": {},
   "outputs": [],
   "source": [
    "# Useful starting lines\n",
    "%matplotlib inline\n",
    "import numpy as np\n",
    "import matplotlib.pyplot as plt\n",
    "%load_ext autoreload\n",
    "%autoreload 2\n",
    "\n",
    "from proj1_helpers import *\n",
    "from essential_tools import *"
   ]
  },
  {
   "cell_type": "markdown",
   "metadata": {},
   "source": [
    "Data exploration and cleaning\n",
    "==="
   ]
  },
  {
   "cell_type": "markdown",
   "metadata": {},
   "source": [
    "Load data"
   ]
  },
  {
   "cell_type": "code",
   "execution_count": 2,
   "metadata": {},
   "outputs": [],
   "source": [
    "from proj1_helpers import *\n",
    "\n",
    "labels, raw_data, indices = load_csv_data('train.csv', sub_sample=False)\n",
    "labels_te, raw_data_te, indices_te = load_csv_data('test.csv', sub_sample=False)"
   ]
  },
  {
   "cell_type": "markdown",
   "metadata": {},
   "source": [
    "Divide data"
   ]
  },
  {
   "cell_type": "code",
   "execution_count": 3,
   "metadata": {},
   "outputs": [
    {
     "name": "stdout",
     "output_type": "stream",
     "text": [
      "Train: 0 jet (99913, 30) , 1 jet (77544, 30) , 2 jet (72543, 30)\n",
      "Test: 0 jet (227458, 30) , 1 jet (175338, 30) , 2 jet (165442, 30)\n"
     ]
    }
   ],
   "source": [
    "labels0, data0, labels1, data1, labels2, data2 = divide_data(labels, raw_data)\n",
    "labels0_te, data0_te, labels1_te, data1_te, labels2_te, data2_te = divide_data(labels_te, raw_data_te)\n",
    "\n",
    "print('Train:', '0 jet', data0.shape, ', 1 jet', data1.shape, ', 2 jet', data2.shape)\n",
    "print('Test:', '0 jet', data0_te.shape, ', 1 jet', data1_te.shape, ', 2 jet', data2_te.shape)"
   ]
  },
  {
   "cell_type": "markdown",
   "metadata": {},
   "source": [
    "Remove useless columns"
   ]
  },
  {
   "cell_type": "code",
   "execution_count": 4,
   "metadata": {
    "scrolled": true
   },
   "outputs": [
    {
     "name": "stdout",
     "output_type": "stream",
     "text": [
      "Columns with variance = 0 : (array([ 4,  5,  6, 12, 22, 23, 24, 25, 26, 27, 28, 29]),)\n",
      "New data shape : (99913, 18)\n",
      "Columns with variance = 0 : (array([ 4,  5,  6, 12, 22, 26, 27, 28]),)\n",
      "New data shape : (77544, 22)\n",
      "Columns with variance = 0 : (array([], dtype=int64),)\n",
      "New data shape : (72543, 30)\n"
     ]
    }
   ],
   "source": [
    "# enlever les features avec variance 0\n",
    "clean_data0, clean_data0_te = remove_novar_features(data0, data0_te)\n",
    "clean_data1, clean_data1_te = remove_novar_features(data1, data1_te)\n",
    "clean_data2, clean_data2_te = remove_novar_features(data2, data2_te)"
   ]
  },
  {
   "cell_type": "markdown",
   "metadata": {},
   "source": [
    "Standardize data"
   ]
  },
  {
   "cell_type": "code",
   "execution_count": 5,
   "metadata": {},
   "outputs": [],
   "source": [
    "std_data0, mean0, std0 = standardize_train(clean_data0) \n",
    "std_data0_te = standardize_test(clean_data0_te, mean0, std0)\n",
    "\n",
    "std_data1, mean1, std1 = standardize_train(clean_data1)\n",
    "std_data1_te = standardize_test(clean_data1_te, mean1, std1)\n",
    "\n",
    "std_data2, mean2, std2 = standardize_train(clean_data2)\n",
    "std_data2_te = standardize_test(clean_data2_te, mean2, std2)"
   ]
  },
  {
   "cell_type": "markdown",
   "metadata": {},
   "source": [
    "Estimation of feature 0"
   ]
  },
  {
   "cell_type": "code",
   "execution_count": 6,
   "metadata": {
    "scrolled": true
   },
   "outputs": [
    {
     "name": "stdout",
     "output_type": "stream",
     "text": [
      "26123 NaN lines found\n",
      "7562 NaN lines found\n",
      "4429 NaN lines found\n"
     ]
    }
   ],
   "source": [
    "estimated_data0, weights_train0 = column_estimation_train(std_data0)\n",
    "estimated_data0_te = column_estimation_test(std_data0_te, weights_train0)\n",
    "\n",
    "estimated_data1, weights_train1 = column_estimation_train(std_data1)\n",
    "estimated_data1_te = column_estimation_test(std_data1_te, weights_train1)\n",
    "\n",
    "estimated_data2, weights_train2 = column_estimation_train(std_data2)\n",
    "estimated_data2_te = column_estimation_test(std_data2_te, weights_train2)"
   ]
  },
  {
   "cell_type": "markdown",
   "metadata": {},
   "source": [
    "TRY WITH LOGISTIC\n"
   ]
  },
  {
   "cell_type": "code",
   "execution_count": 7,
   "metadata": {},
   "outputs": [],
   "source": [
    "labels0[labels0 == -1] = 0\n",
    "labels1[labels1 == -1] = 0\n",
    "labels2[labels2 == -1] = 0"
   ]
  },
  {
   "cell_type": "code",
   "execution_count": 8,
   "metadata": {
    "scrolled": false
   },
   "outputs": [
    {
     "name": "stdout",
     "output_type": "stream",
     "text": [
      "Degree: 0 Lambda: 1e-07\n",
      "Degree: 1 Lambda: 1e-07\n",
      "Degree: 2 Lambda: 1e-07\n",
      "Degree: 3 Lambda: 1e-07\n",
      "Degree: 0 Lambda: 1.668100537200059e-07\n",
      "Degree: 1 Lambda: 1.668100537200059e-07\n",
      "Degree: 2 Lambda: 1.668100537200059e-07\n",
      "Degree: 3 Lambda: 1.668100537200059e-07\n",
      "Degree: 0 Lambda: 2.782559402207126e-07\n",
      "Degree: 1 Lambda: 2.782559402207126e-07\n",
      "Degree: 2 Lambda: 2.782559402207126e-07\n",
      "Degree: 3 Lambda: 2.782559402207126e-07\n",
      "Degree: 0 Lambda: 4.641588833612782e-07\n",
      "Degree: 1 Lambda: 4.641588833612782e-07\n",
      "Degree: 2 Lambda: 4.641588833612782e-07\n",
      "Degree: 3 Lambda: 4.641588833612782e-07\n",
      "Degree: 0 Lambda: 7.742636826811278e-07\n",
      "Degree: 1 Lambda: 7.742636826811278e-07\n",
      "Degree: 2 Lambda: 7.742636826811278e-07\n",
      "Degree: 3 Lambda: 7.742636826811278e-07\n",
      "Degree: 0 Lambda: 1.2915496650148827e-06\n",
      "Degree: 1 Lambda: 1.2915496650148827e-06\n",
      "Degree: 2 Lambda: 1.2915496650148827e-06\n",
      "Degree: 3 Lambda: 1.2915496650148827e-06\n",
      "Degree: 0 Lambda: 2.1544346900318822e-06\n",
      "Degree: 1 Lambda: 2.1544346900318822e-06\n",
      "Degree: 2 Lambda: 2.1544346900318822e-06\n",
      "Degree: 3 Lambda: 2.1544346900318822e-06\n",
      "Degree: 0 Lambda: 3.5938136638046257e-06\n",
      "Degree: 1 Lambda: 3.5938136638046257e-06\n",
      "Degree: 2 Lambda: 3.5938136638046257e-06\n",
      "Degree: 3 Lambda: 3.5938136638046257e-06\n",
      "Degree: 0 Lambda: 5.994842503189409e-06\n",
      "Degree: 1 Lambda: 5.994842503189409e-06\n",
      "Degree: 2 Lambda: 5.994842503189409e-06\n",
      "Degree: 3 Lambda: 5.994842503189409e-06\n",
      "Degree: 0 Lambda: 1e-05\n",
      "Degree: 1 Lambda: 1e-05\n",
      "Degree: 2 Lambda: 1e-05\n",
      "Degree: 3 Lambda: 1e-05\n",
      "Degree: 0 Lambda: 1e-07\n",
      "Degree: 1 Lambda: 1e-07\n",
      "Degree: 2 Lambda: 1e-07\n",
      "Degree: 3 Lambda: 1e-07\n",
      "Degree: 0 Lambda: 1.668100537200059e-07\n",
      "Degree: 1 Lambda: 1.668100537200059e-07\n",
      "Degree: 2 Lambda: 1.668100537200059e-07\n",
      "Degree: 3 Lambda: 1.668100537200059e-07\n",
      "Degree: 0 Lambda: 2.782559402207126e-07\n",
      "Degree: 1 Lambda: 2.782559402207126e-07\n",
      "Degree: 2 Lambda: 2.782559402207126e-07\n",
      "Degree: 3 Lambda: 2.782559402207126e-07\n",
      "Degree: 0 Lambda: 4.641588833612782e-07\n",
      "Degree: 1 Lambda: 4.641588833612782e-07\n",
      "Degree: 2 Lambda: 4.641588833612782e-07\n",
      "Degree: 3 Lambda: 4.641588833612782e-07\n",
      "Degree: 0 Lambda: 7.742636826811278e-07\n",
      "Degree: 1 Lambda: 7.742636826811278e-07\n",
      "Degree: 2 Lambda: 7.742636826811278e-07\n",
      "Degree: 3 Lambda: 7.742636826811278e-07\n",
      "Degree: 0 Lambda: 1.2915496650148827e-06\n",
      "Degree: 1 Lambda: 1.2915496650148827e-06\n",
      "Degree: 2 Lambda: 1.2915496650148827e-06\n",
      "Degree: 3 Lambda: 1.2915496650148827e-06\n",
      "Degree: 0 Lambda: 2.1544346900318822e-06\n",
      "Degree: 1 Lambda: 2.1544346900318822e-06\n",
      "Degree: 2 Lambda: 2.1544346900318822e-06\n",
      "Degree: 3 Lambda: 2.1544346900318822e-06\n",
      "Degree: 0 Lambda: 3.5938136638046257e-06\n",
      "Degree: 1 Lambda: 3.5938136638046257e-06\n",
      "Degree: 2 Lambda: 3.5938136638046257e-06\n",
      "Degree: 3 Lambda: 3.5938136638046257e-06\n",
      "Degree: 0 Lambda: 5.994842503189409e-06\n",
      "Degree: 1 Lambda: 5.994842503189409e-06\n",
      "Degree: 2 Lambda: 5.994842503189409e-06\n",
      "Degree: 3 Lambda: 5.994842503189409e-06\n",
      "Degree: 0 Lambda: 1e-05\n",
      "Degree: 1 Lambda: 1e-05\n",
      "Degree: 2 Lambda: 1e-05\n",
      "Degree: 3 Lambda: 1e-05\n",
      "Degree: 0 Lambda: 1e-07\n",
      "Degree: 1 Lambda: 1e-07\n",
      "Degree: 2 Lambda: 1e-07\n",
      "Degree: 3 Lambda: 1e-07\n",
      "Degree: 0 Lambda: 1.668100537200059e-07\n",
      "Degree: 1 Lambda: 1.668100537200059e-07\n",
      "Degree: 2 Lambda: 1.668100537200059e-07\n",
      "Degree: 3 Lambda: 1.668100537200059e-07\n",
      "Degree: 0 Lambda: 2.782559402207126e-07\n",
      "Degree: 1 Lambda: 2.782559402207126e-07\n",
      "Degree: 2 Lambda: 2.782559402207126e-07\n",
      "Degree: 3 Lambda: 2.782559402207126e-07\n",
      "Degree: 0 Lambda: 4.641588833612782e-07\n",
      "Degree: 1 Lambda: 4.641588833612782e-07\n",
      "Degree: 2 Lambda: 4.641588833612782e-07\n",
      "Degree: 3 Lambda: 4.641588833612782e-07\n",
      "Degree: 0 Lambda: 7.742636826811278e-07\n",
      "Degree: 1 Lambda: 7.742636826811278e-07\n",
      "Degree: 2 Lambda: 7.742636826811278e-07\n",
      "Degree: 3 Lambda: 7.742636826811278e-07\n",
      "Degree: 0 Lambda: 1.2915496650148827e-06\n",
      "Degree: 1 Lambda: 1.2915496650148827e-06\n",
      "Degree: 2 Lambda: 1.2915496650148827e-06\n",
      "Degree: 3 Lambda: 1.2915496650148827e-06\n",
      "Degree: 0 Lambda: 2.1544346900318822e-06\n",
      "Degree: 1 Lambda: 2.1544346900318822e-06\n",
      "Degree: 2 Lambda: 2.1544346900318822e-06\n",
      "Degree: 3 Lambda: 2.1544346900318822e-06\n",
      "Degree: 0 Lambda: 3.5938136638046257e-06\n",
      "Degree: 1 Lambda: 3.5938136638046257e-06\n",
      "Degree: 2 Lambda: 3.5938136638046257e-06\n",
      "Degree: 3 Lambda: 3.5938136638046257e-06\n",
      "Degree: 0 Lambda: 5.994842503189409e-06\n",
      "Degree: 1 Lambda: 5.994842503189409e-06\n",
      "Degree: 2 Lambda: 5.994842503189409e-06\n",
      "Degree: 3 Lambda: 5.994842503189409e-06\n",
      "Degree: 0 Lambda: 1e-05\n",
      "Degree: 1 Lambda: 1e-05\n",
      "Degree: 2 Lambda: 1e-05\n",
      "Degree: 3 Lambda: 1e-05\n"
     ]
    }
   ],
   "source": [
    "lambdas = np.logspace(-7,-5,10)\n",
    "degrees = np.arange(4)\n",
    "gamma = 1e-07\n",
    "\n",
    "best_lambda0, best_degree0,best_accuracy0, best_loss0 = logistic_find_best_parameters(labels0, estimated_data0, lambdas, gamma, degrees)\n",
    "best_lambda1, best_degree1,best_accuracy1, best_loss1 = logistic_find_best_parameters(labels1, estimated_data1, lambdas, gamma, degrees)\n",
    "best_lambda2, best_degree2,best_accuracy2, best_loss2 = logistic_find_best_parameters(labels2, estimated_data2, lambdas, gamma, degrees)"
   ]
  },
  {
   "cell_type": "code",
   "execution_count": 9,
   "metadata": {
    "scrolled": true
   },
   "outputs": [
    {
     "name": "stdout",
     "output_type": "stream",
     "text": [
      "jet0 5.994842503189409e-06 2 0.810089080172155 42180.05771030098\n",
      "jet1 3.5938136638046257e-06 2 0.7049780758318287 40862.21452437533\n",
      "jet2 3.5938136638046257e-06 2 0.7320512820512821 37085.559712317176\n"
     ]
    }
   ],
   "source": [
    "print('jet0',best_lambda0,best_degree0,best_accuracy0,best_loss0)\n",
    "print('jet1',best_lambda1,best_degree1,best_accuracy1,best_loss1)\n",
    "print('jet2',best_lambda2,best_degree2,best_accuracy2,best_loss2)\n"
   ]
  },
  {
   "cell_type": "code",
   "execution_count": 10,
   "metadata": {
    "scrolled": false
   },
   "outputs": [
    {
     "name": "stdout",
     "output_type": "stream",
     "text": [
      "[ 0.01945543 -0.1378981  -0.00199794  0.00073283  0.07205679  0.00073283\n",
      "  0.03937605 -0.10783222  0.04932057  0.09718377  0.00162215 -0.00182713\n",
      " -0.03786668  0.00457396  0.0014857  -0.07856726 -0.00015646  0.03197723]\n"
     ]
    }
   ],
   "source": [
    "initial_w = np.zeros(estimated_data0.shape[1])\n",
    "max_iters = 100\n",
    "w,loss = reg_logistic_regression(labels0,estimated_data0, best_lambda0, initial_w,max_iters, gamma)\n",
    "print(w)"
   ]
  },
  {
   "cell_type": "code",
   "execution_count": 11,
   "metadata": {},
   "outputs": [
    {
     "name": "stdout",
     "output_type": "stream",
     "text": [
      "[-2.07980463e-02  4.87347224e-03 -1.66313697e-02  3.10793300e-03\n",
      "  6.30396305e-04  9.52839690e-03  6.30396341e-04  6.50759712e-03\n",
      " -1.37615683e-02  6.53035944e-03  1.35160533e-02  2.77526763e-04\n",
      " -2.13657863e-04 -3.60053992e-03  6.19242679e-04  1.49564367e-04\n",
      " -9.48708000e-03  4.46219568e-05  5.04837678e-03 -3.14786141e-02\n",
      " -3.00134036e-03 -2.75242105e-02 -1.04837015e-03 -3.16858935e-02\n",
      " -1.04836951e-03 -1.25394420e-02 -1.65591619e-02 -6.97258735e-03\n",
      " -4.54541229e-03 -2.43285004e-02 -2.06948538e-02 -1.60992745e-02\n",
      " -2.57478925e-02 -2.09340187e-02  2.15154454e-03 -2.05368519e-02\n",
      " -1.86833458e-02]\n",
      "y_pred shape (227458,)\n",
      "y_pred shape (175338,)\n",
      "y_pred shape (165442,)\n"
     ]
    }
   ],
   "source": [
    "max_iters = 10\n",
    "gamma = 1e-07\n",
    "\n",
    "poly_data0 = build_poly(estimated_data0, best_degree0)\n",
    "initial_w0 = np.zeros(poly_data0.shape[1])\n",
    "weights0,loss = reg_logistic_regression(labels0, poly_data0, best_lambda0, initial_w0,max_iters,gamma)\n",
    "print(weights0)\n",
    "poly_data_te0 = build_poly(estimated_data0_te, best_degree0)\n",
    "y_pred0 = final_predict_labels_log(weights0, poly_data_te0)\n",
    "\n",
    "poly_data1 = build_poly(estimated_data1, best_degree1)\n",
    "initial_w1 = np.zeros(poly_data1.shape[1])\n",
    "weights1,loss = reg_logistic_regression(labels1, poly_data1, best_lambda1, initial_w1,max_iters,gamma)\n",
    "poly_data_te1 = build_poly(estimated_data1_te, best_degree1)\n",
    "y_pred1 = final_predict_labels_log(weights1, poly_data_te1)\n",
    "\n",
    "poly_data2 = build_poly(estimated_data2, best_degree2)\n",
    "initial_w2 = np.zeros(poly_data2.shape[1])\n",
    "weights2,loss = reg_logistic_regression(labels2, poly_data2, best_lambda2, initial_w2,max_iters,gamma)\n",
    "poly_data_te2 = build_poly(estimated_data2_te, best_degree2)\n",
    "y_pred2 = final_predict_labels_log(weights2, poly_data_te2)"
   ]
  },
  {
   "cell_type": "markdown",
   "metadata": {},
   "source": [
    "Prediction\n",
    "==="
   ]
  },
  {
   "cell_type": "code",
   "execution_count": 12,
   "metadata": {},
   "outputs": [],
   "source": [
    "labels_te[np.where(raw_data_te[:,22] == 0)[0]] = y_pred0\n",
    "labels_te[np.where(raw_data_te[:,22] == 1)[0]] = y_pred1\n",
    "labels_te[np.where(raw_data_te[:,22] > 1)[0]] = y_pred2\n",
    "\n",
    "create_csv_submission(indices_te, labels_te, 'test_jet_log.csv')"
   ]
  },
  {
   "cell_type": "code",
   "execution_count": null,
   "metadata": {},
   "outputs": [],
   "source": []
  }
 ],
 "metadata": {
  "kernelspec": {
   "display_name": "Python 3",
   "language": "python",
   "name": "python3"
  },
  "language_info": {
   "codemirror_mode": {
    "name": "ipython",
    "version": 3
   },
   "file_extension": ".py",
   "mimetype": "text/x-python",
   "name": "python",
   "nbconvert_exporter": "python",
   "pygments_lexer": "ipython3",
   "version": "3.6.5"
  }
 },
 "nbformat": 4,
 "nbformat_minor": 2
}
