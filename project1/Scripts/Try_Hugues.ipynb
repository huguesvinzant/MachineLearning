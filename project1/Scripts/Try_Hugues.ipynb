{
 "cells": [
  {
   "cell_type": "code",
   "execution_count": 1,
   "metadata": {},
   "outputs": [],
   "source": [
    "# Useful starting lines\n",
    "%matplotlib inline\n",
    "import numpy as np\n",
    "import matplotlib.pyplot as plt\n",
    "%load_ext autoreload\n",
    "%autoreload 2\n",
    "\n",
    "from proj1_helpers import *\n",
    "from Hugues import *\n"
   ]
  },
  {
   "cell_type": "markdown",
   "metadata": {},
   "source": [
    "Load data\n",
    "==="
   ]
  },
  {
   "cell_type": "code",
   "execution_count": 2,
   "metadata": {},
   "outputs": [],
   "source": [
    "from proj1_helpers import *\n",
    "\n",
    "labels, raw_data, indices = load_csv_data('train.csv', sub_sample=False)\n",
    "nan_data = meaningless_to_nan(raw_data)\n",
    "\n",
    "labels_te, raw_data_te, indices_te = load_csv_data('test.csv', sub_sample=False)\n",
    "nan_data_te = meaningless_to_nan(raw_data_te)\n"
   ]
  },
  {
   "cell_type": "markdown",
   "metadata": {},
   "source": [
    "Estimate whole features\n",
    "==="
   ]
  },
  {
   "cell_type": "code",
   "execution_count": 3,
   "metadata": {},
   "outputs": [
    {
     "name": "stdout",
     "output_type": "stream",
     "text": [
      "Columns containing NaN [ 0  4  5  6 12 23 24 25 26 27 28]\n",
      "Columns containing NaN [ 0  4  5  6 12 23 24 25 26 27 28]\n"
     ]
    }
   ],
   "source": [
    "# Estimation of columns for train set\n",
    "lambdas = np.logspace(-4,0,5)\n",
    "k_fold = 4\n",
    "\n",
    "estimated_data = column_estimation(nan_data, lambdas, k_fold)\n",
    "estimated_data_te = column_estimation(nan_data_te, lambdas, k_fold)"
   ]
  },
  {
   "cell_type": "markdown",
   "metadata": {},
   "source": [
    "Find best parameters\n",
    "==="
   ]
  },
  {
   "cell_type": "code",
   "execution_count": 4,
   "metadata": {},
   "outputs": [
    {
     "name": "stderr",
     "output_type": "stream",
     "text": [
      "/anaconda3/lib/python3.6/site-packages/numpy/core/fromnumeric.py:2957: RuntimeWarning: Mean of empty slice.\n",
      "  out=out, **kwargs)\n",
      "/anaconda3/lib/python3.6/site-packages/numpy/core/_methods.py:80: RuntimeWarning: invalid value encountered in double_scalars\n",
      "  ret = ret.dtype.type(ret / rcount)\n"
     ]
    },
    {
     "name": "stdout",
     "output_type": "stream",
     "text": [
      "Degree: 0 Lambda: 1.0\n",
      "Score: 0.65752\n",
      "Loss: 0.47249809759385464\n",
      "Degree: 0 Lambda: 0.1\n",
      "Score: 0.65752\n",
      "Loss: 0.45187316720603565\n",
      "Degree: 0 Lambda: 0.01\n",
      "Score: 0.65752\n",
      "Loss: 0.45051788640896906\n",
      "Degree: 0 Lambda: 0.001\n",
      "Score: 0.65752\n",
      "Loss: 0.4504991552266837\n",
      "Degree: 0 Lambda: 0.0001\n",
      "Score: 0.65752\n",
      "Loss: 0.4504989707183972\n",
      "Degree: 1 Lambda: 1.0\n",
      "Score: 0.73136\n",
      "Loss: 0.35839874821960815\n",
      "Degree: 1 Lambda: 0.1\n",
      "Score: 0.73152\n",
      "Loss: 0.35133300763238345\n",
      "Degree: 1 Lambda: 0.01\n",
      "Score: 0.7406\n",
      "Loss: 0.34207720441497996\n",
      "Degree: 1 Lambda: 0.001\n",
      "Score: 0.74552\n",
      "Loss: 0.33871819816151766\n",
      "Degree: 1 Lambda: 0.0001\n",
      "Score: 0.7464\n",
      "Loss: 0.33859743127884967\n",
      "Degree: 2 Lambda: 1.0\n",
      "Score: 0.74684\n",
      "Loss: 0.45254345631348897\n",
      "Degree: 2 Lambda: 0.1\n",
      "Score: 0.75332\n",
      "Loss: 0.41778855383972446\n",
      "Degree: 2 Lambda: 0.01\n",
      "Score: 0.76312\n",
      "Loss: 0.39215570655176746\n",
      "Degree: 2 Lambda: 0.001\n",
      "Score: 0.77004\n",
      "Loss: 0.373318838231306\n",
      "Degree: 2 Lambda: 0.0001\n",
      "Score: 0.76984\n",
      "Loss: 0.36685880935995013\n",
      "Degree: 3 Lambda: 1.0\n",
      "Score: 0.75456\n",
      "Loss: 8.778732335959935\n",
      "Degree: 3 Lambda: 0.1\n",
      "Score: 0.76136\n",
      "Loss: 8.547543326720644\n",
      "Degree: 3 Lambda: 0.01\n",
      "Score: 0.76928\n",
      "Loss: 6.494965829968651\n",
      "Degree: 3 Lambda: 0.001\n",
      "Score: 0.77564\n",
      "Loss: 4.933684617223388\n",
      "Degree: 3 Lambda: 0.0001\n",
      "Score: 0.77884\n",
      "Loss: 4.3659042639266925\n",
      "Degree: 4 Lambda: 1.0\n",
      "Score: 0.76476\n",
      "Loss: 865.6163735081316\n",
      "Degree: 4 Lambda: 0.1\n",
      "Score: 0.7712\n",
      "Loss: 990.5025201659\n",
      "Degree: 4 Lambda: 0.01\n",
      "Score: 0.77784\n",
      "Loss: 846.6296625518644\n",
      "Degree: 4 Lambda: 0.001\n",
      "Score: 0.78468\n",
      "Loss: 670.5547988098526\n",
      "Degree: 4 Lambda: 0.0001\n",
      "Score: 0.78676\n",
      "Loss: 614.2439025435116\n",
      "Best degree: 4 Best lambda: 0.0001 Best score: 0.78676 Best loss 0.33859743127884967\n"
     ]
    }
   ],
   "source": [
    "#Parameters\n",
    "degrees = range(5)\n",
    "lambdas = np.logspace(0, -4, 5)\n",
    "k_fold = 10\n",
    "seed = 42\n",
    "\n",
    "k_idx = build_k_indices(labels, k_fold, seed)\n",
    "loss_te = np.ones((len(degrees),len(lambdas)))\n",
    "scores = np.ones((len(degrees),len(lambdas)))\n",
    "\n",
    "for degree_idx, degree in enumerate(degrees):\n",
    "    for lambda_idx, lambda_ in enumerate(lambdas):\n",
    "        _ ,loss_te[degree_idx, lambda_idx], scores[degree_idx, lambda_idx]= cross_validation_(labels, estimated_data, k_idx, k_fold, lambda_, degree)\n",
    "        print('Degree:', degrees[degree_idx], 'Lambda:', lambdas[lambda_idx])\n",
    "        print('Score:', scores[degree_idx, lambda_idx])\n",
    "        print('Loss:', loss_te[degree_idx, lambda_idx])\n",
    "        \n",
    "#Error        \n",
    "best_HP_idx = np.unravel_index(np.argmax(scores), np.shape(scores))\n",
    "best_HP_idx_ = np.unravel_index(np.argmin(loss_te), np.shape(loss_te))\n",
    "best_degree = degrees[best_HP_idx[0]]\n",
    "best_lambda = lambdas[best_HP_idx[1]]\n",
    "best_score = scores[best_HP_idx[0], best_HP_idx[1]]\n",
    "best_loss = loss_te[best_HP_idx_[0], best_HP_idx_[1]]\n",
    "\n",
    "\n",
    "print('Best degree:', best_degree, 'Best lambda:', best_lambda, 'Best score:', best_score, 'Best loss', best_loss)\n"
   ]
  },
  {
   "cell_type": "markdown",
   "metadata": {},
   "source": [
    "Prediction\n",
    "==="
   ]
  },
  {
   "cell_type": "code",
   "execution_count": 6,
   "metadata": {},
   "outputs": [
    {
     "name": "stdout",
     "output_type": "stream",
     "text": [
      "0.2748848193890588\n"
     ]
    }
   ],
   "source": [
    "# Train model to get weights\n",
    "poly_estimated_data = build_poly(estimated_data, 2)\n",
    "weights, loss = ridge_regression(labels, poly_estimated_data, 0.001)\n",
    "\n",
    "#Predict on test\n",
    "poly_estimated_data_te = build_poly(estimated_data_te, 2)\n",
    "y_pred_te = predict_labels(weights, poly_estimated_data_te)\n",
    "\n",
    "create_csv_submission(indices_te, y_pred_te, 'csv_de_l_angoisse.csv')"
   ]
  },
  {
   "cell_type": "code",
   "execution_count": null,
   "metadata": {},
   "outputs": [],
   "source": []
  }
 ],
 "metadata": {
  "kernelspec": {
   "display_name": "Python 3",
   "language": "python",
   "name": "python3"
  },
  "language_info": {
   "codemirror_mode": {
    "name": "ipython",
    "version": 3
   },
   "file_extension": ".py",
   "mimetype": "text/x-python",
   "name": "python",
   "nbconvert_exporter": "python",
   "pygments_lexer": "ipython3",
   "version": "3.6.5"
  }
 },
 "nbformat": 4,
 "nbformat_minor": 2
}
