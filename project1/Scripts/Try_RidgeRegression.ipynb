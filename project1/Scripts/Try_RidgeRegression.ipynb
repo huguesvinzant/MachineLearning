{
 "cells": [
  {
   "cell_type": "code",
   "execution_count": 1,
   "metadata": {},
   "outputs": [],
   "source": [
    "# Useful starting lines\n",
    "%matplotlib inline\n",
    "import numpy as np\n",
    "import matplotlib.pyplot as plt\n",
    "%load_ext autoreload\n",
    "%autoreload 2\n",
    "\n",
    "from proj1_helpers import *\n",
    "from essential_functions import *\n"
   ]
  },
  {
   "cell_type": "markdown",
   "metadata": {},
   "source": [
    "Load data\n",
    "==="
   ]
  },
  {
   "cell_type": "code",
   "execution_count": 2,
   "metadata": {},
   "outputs": [],
   "source": [
    "from proj1_helpers import *\n",
    "\n",
    "labels, raw_data, indices = load_csv_data('train.csv', sub_sample=False)\n",
    "nan_data = meaningless_to_nan(raw_data)\n",
    "\n",
    "labels_te, raw_data_te, indices_te = load_csv_data('test.csv', sub_sample=False)\n",
    "nan_data_te = meaningless_to_nan(raw_data_te)\n"
   ]
  },
  {
   "cell_type": "markdown",
   "metadata": {},
   "source": [
    "Estimate whole features\n",
    "==="
   ]
  },
  {
   "cell_type": "code",
   "execution_count": 3,
   "metadata": {},
   "outputs": [
    {
     "name": "stdout",
     "output_type": "stream",
     "text": [
      "Columns containing NaN [ 0  4  5  6 12 23 24 25 26 27 28]\n",
      "Columns containing NaN [ 0  4  5  6 12 23 24 25 26 27 28]\n"
     ]
    }
   ],
   "source": [
    "# Estimation of columns for train set\n",
    "\n",
    "estimated_data = column_estimation(nan_data)\n",
    "estimated_data_te = column_estimation(nan_data_te)"
   ]
  },
  {
   "cell_type": "code",
   "execution_count": 4,
   "metadata": {},
   "outputs": [],
   "source": [
    "std_data, mean_train, std_train = standardize_train(estimated_data)\n",
    "std_data_te = standardize_test(estimated_data_te, mean_train, std_train)"
   ]
  },
  {
   "cell_type": "markdown",
   "metadata": {},
   "source": [
    "Find best parameters\n",
    "==="
   ]
  },
  {
   "cell_type": "code",
   "execution_count": 5,
   "metadata": {},
   "outputs": [
    {
     "name": "stdout",
     "output_type": "stream",
     "text": [
      "Degree: 11 Lambda: 1e-08\n",
      "Score: 0.81392\n",
      "Loss: 0.09202800000000001\n",
      "Degree: 11 Lambda: 1e-09\n",
      "Score: 0.81396\n",
      "Loss: 0.092016\n",
      "Degree: 11 Lambda: 1e-10\n",
      "Score: 0.81392\n",
      "Loss: 0.09203800000000001\n"
     ]
    }
   ],
   "source": [
    "#Parameters\n",
    "degrees = [11]\n",
    "lambdas = np.logspace(-8, -10, 3)\n",
    "k_fold = 10\n",
    "seed = 42\n",
    "\n",
    "k_idx = build_k_indices(labels, k_fold, seed)\n",
    "loss_te = np.ones((len(degrees),len(lambdas)))\n",
    "scores = np.ones((len(degrees),len(lambdas)))\n",
    "\n",
    "for degree_idx, degree in enumerate(degrees):\n",
    "    for lambda_idx, lambda_ in enumerate(lambdas):\n",
    "        _ ,loss_te[degree_idx, lambda_idx], scores[degree_idx, lambda_idx]= cross_validation_(labels, std_data, k_idx, k_fold, lambda_, degree)\n",
    "        print('Degree:', degrees[degree_idx], 'Lambda:', lambdas[lambda_idx])\n",
    "        print('Score:', scores[degree_idx, lambda_idx])\n",
    "        print('Loss:', loss_te[degree_idx, lambda_idx])"
   ]
  },
  {
   "cell_type": "code",
   "execution_count": 6,
   "metadata": {},
   "outputs": [
    {
     "name": "stdout",
     "output_type": "stream",
     "text": [
      "(1, 3)\n",
      "Best degree: 11 Best lambda: 1e-09 Best score: 0.81396 Best loss 0.092016\n"
     ]
    }
   ],
   "source": [
    "ratio = scores/loss_te\n",
    "best_HP_idx = np.unravel_index(np.argmax(ratio), np.shape(ratio))\n",
    "best_degree = degrees[best_HP_idx[0]]\n",
    "best_lambda = lambdas[best_HP_idx[1]]\n",
    "\n",
    "best_score = scores[best_HP_idx[0], best_HP_idx[1]]\n",
    "best_loss = loss_te[best_HP_idx[0], best_HP_idx[1]]\n",
    "\n",
    "print('Best degree:', best_degree, 'Best lambda:', best_lambda, 'Best score:', best_score, 'Best loss', best_loss)"
   ]
  },
  {
   "cell_type": "markdown",
   "metadata": {},
   "source": [
    "Prediction\n",
    "==="
   ]
  },
  {
   "cell_type": "code",
   "execution_count": 7,
   "metadata": {},
   "outputs": [],
   "source": [
    "# Train model to get weights\n",
    "poly_std_data = build_poly(std_data, best_degree)\n",
    "weights, loss = ridge_regression(labels, poly_std_data, best_lambda)\n",
    "\n",
    "#Predict on test\n",
    "poly_std_data_te = build_poly(std_data_te, best_degree)\n",
    "y_pred_te = predict_labels(weights, poly_std_data_te)\n",
    "\n",
    "create_csv_submission(indices_te, y_pred_te, 'csv_de_l_angoisse.csv')"
   ]
  }
 ],
 "metadata": {
  "kernelspec": {
   "display_name": "Python 3",
   "language": "python",
   "name": "python3"
  },
  "language_info": {
   "codemirror_mode": {
    "name": "ipython",
    "version": 3
   },
   "file_extension": ".py",
   "mimetype": "text/x-python",
   "name": "python",
   "nbconvert_exporter": "python",
   "pygments_lexer": "ipython3",
   "version": "3.6.5"
  }
 },
 "nbformat": 4,
 "nbformat_minor": 2
}
