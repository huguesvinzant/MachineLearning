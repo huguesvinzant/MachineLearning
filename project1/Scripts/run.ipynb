{
 "cells": [
  {
   "cell_type": "code",
   "execution_count": 2,
   "metadata": {},
   "outputs": [
    {
     "name": "stdout",
     "output_type": "stream",
     "text": [
      "The autoreload extension is already loaded. To reload it, use:\n",
      "  %reload_ext autoreload\n"
     ]
    }
   ],
   "source": [
    "# Useful starting lines\n",
    "%matplotlib inline\n",
    "import numpy as np\n",
    "import matplotlib.pyplot as plt\n",
    "%load_ext autoreload\n",
    "%autoreload 2\n",
    "\n",
    "from proj1_helpers import *\n",
    "from implementations import *"
   ]
  },
  {
   "cell_type": "code",
   "execution_count": 3,
   "metadata": {},
   "outputs": [
    {
     "name": "stdout",
     "output_type": "stream",
     "text": [
      "Train: 0 jet (99913, 30) , 1 jet (77544, 30) , 2 jet (72543, 30)\n",
      "Test: 0 jet (227458, 30) , 1 jet (175338, 30) , 2 jet (165442, 30)\n",
      "Columns with variance = 0 : (array([ 4,  5,  6, 12, 22, 23, 24, 25, 26, 27, 28, 29]),)\n",
      "New data shape : (99913, 18)\n",
      "Columns with variance = 0 : (array([ 4,  5,  6, 12, 22, 26, 27, 28]),)\n",
      "New data shape : (77544, 22)\n",
      "Columns with variance = 0 : (array([], dtype=int64),)\n",
      "New data shape : (72543, 30)\n",
      "26123 NaN lines found\n",
      "7562 NaN lines found\n",
      "4429 NaN lines found\n"
     ]
    }
   ],
   "source": [
    "#Data loading\n",
    "labels, raw_data, indices = load_csv_data('train.csv', sub_sample=False)\n",
    "labels_te, raw_data_te, indices_te = load_csv_data('test.csv', sub_sample=False)\n",
    "\n",
    "#Data division according to jets\n",
    "labels0, data0, labels1, data1, labels2, data2 = divide_data(labels, raw_data)\n",
    "labels0_te, data0_te, labels1_te, data1_te, labels2_te, data2_te = divide_data(labels_te, raw_data_te)\n",
    "print('Train:', '0 jet', data0.shape, ', 1 jet', data1.shape, ', 2 jet', data2.shape)\n",
    "print('Test:', '0 jet', data0_te.shape, ', 1 jet', data1_te.shape, ', 2 jet', data2_te.shape)\n",
    "\n",
    "#Remove features with variance 0\n",
    "clean_data0, clean_data0_te = remove_novar_features(data0, data0_te)\n",
    "clean_data1, clean_data1_te = remove_novar_features(data1, data1_te)\n",
    "clean_data2, clean_data2_te = remove_novar_features(data2, data2_te)\n",
    "\n",
    "#Data standardization\n",
    "std_data0, mean0, std0 = standardize_train(clean_data0) \n",
    "std_data0_te = standardize_test(clean_data0_te, mean0, std0)\n",
    "\n",
    "std_data1, mean1, std1 = standardize_train(clean_data1)\n",
    "std_data1_te = standardize_test(clean_data1_te, mean1, std1)\n",
    "\n",
    "std_data2, mean2, std2 = standardize_train(clean_data2)\n",
    "std_data2_te = standardize_test(clean_data2_te, mean2, std2)\n",
    "\n",
    "#Column 0 estimation\n",
    "estimated_data0, weights_train0 = column_estimation_train(std_data0)\n",
    "estimated_data0_te = column_estimation_test(std_data0_te, weights_train0)\n",
    "\n",
    "estimated_data1, weights_train1 = column_estimation_train(std_data1)\n",
    "estimated_data1_te = column_estimation_test(std_data1_te, weights_train1)\n",
    "\n",
    "estimated_data2, weights_train2 = column_estimation_train(std_data2)\n",
    "estimated_data2_te = column_estimation_test(std_data2_te, weights_train2)"
   ]
  },
  {
   "cell_type": "code",
   "execution_count": 4,
   "metadata": {},
   "outputs": [
    {
     "name": "stdout",
     "output_type": "stream",
     "text": [
      "jet0: Best degree 9 Best lambda: 0.1 Best score: 0.8300670603543189\n",
      "jet1: Best degree 9 Best lambda: 0.1 Best score: 0.7833118390508125\n",
      "jet2: Best degree 9 Best lambda: 0.1 Best score: 0.8011166253101738\n"
     ]
    }
   ],
   "source": [
    "#### RIDGE REGRESSION ####\n",
    "\n",
    "#Find best parameters\n",
    "degrees = [9]\n",
    "lambdas = np.logspace(-1, -1, 1)\n",
    "k_fold = 10\n",
    "seed = 23\n",
    "best_degree0, best_lambda0, best_score0 = find_best_parameters(labels0, estimated_data0, k_fold, lambdas, degrees, seed)\n",
    "print('jet0:', 'Best degree:', best_degree0, 'Best lambda:', best_lambda0, 'Best score:', best_score0)\n",
    "best_degree1, best_lambda1, best_score1 = find_best_parameters(labels1, estimated_data1, k_fold, lambdas, degrees, seed)\n",
    "print('jet1:', 'Best degree:', best_degree1, 'Best lambda:', best_lambda1, 'Best score:', best_score1)\n",
    "best_degree2, best_lambda2, best_score2 = find_best_parameters(labels2, estimated_data2, k_fold, lambdas, degrees, seed)\n",
    "print('jet2:', 'Best degree:', best_degree2, 'Best lambda:', best_lambda2, 'Best score:', best_score2)\n",
    "\n",
    "#Prediction making\n",
    "y_pred0 = make_predictions(estimated_data0, labels0, estimated_data0_te, best_lambda0, best_degree0)\n",
    "y_pred1 = make_predictions(estimated_data1, labels1, estimated_data1_te, best_lambda1, best_degree1)\n",
    "y_pred2 = make_predictions(estimated_data2, labels2, estimated_data2_te, best_lambda2, best_degree0)\n",
    "\n",
    "#Submission making\n",
    "labels_te[np.where(raw_data_te[:,22] == 0)[0]] = y_pred0\n",
    "labels_te[np.where(raw_data_te[:,22] == 1)[0]] = y_pred1\n",
    "labels_te[np.where(raw_data_te[:,22] > 1)[0]] = y_pred2\n",
    "\n",
    "create_csv_submission(indices_te, labels_te, 'test_jet.csv')"
   ]
  },
  {
   "cell_type": "code",
   "execution_count": 16,
   "metadata": {},
   "outputs": [
    {
     "name": "stdout",
     "output_type": "stream",
     "text": [
      "jet0: Best degree: 2 Best lambda: 1e-05 Best score: 0.8300670603543189 Best loss: 48648.65011543334\n",
      "jet1: Best degree: 2 Best lambda: 1e-06 Best score: 0.7833118390508125 Best loss: 42935.139515112416\n",
      "jet2: Best degree: 2 Best lambda: 1e-06 Best score: 0.8011166253101738 Best loss: 42935.139515112416\n"
     ]
    }
   ],
   "source": [
    "#### LOGISTIC REGRESSION ####\n",
    "\n",
    "#Labels conversion to binary values\n",
    "labels0[labels0 == -1] = 0\n",
    "labels1[labels1 == -1] = 0\n",
    "labels2[labels2 == -1] = 0\n",
    "\n",
    "#Find best parameters\n",
    "degrees = [2]\n",
    "lambdas = np.logspace(-5, -7, 3)\n",
    "max_iters = 100\n",
    "gamma = 1e-05\n",
    "best_lambda0, best_degree0, best_accuracy0, best_loss0 = logistic_find_best_parameters(labels0, estimated_data0, lambdas, gamma, degrees)\n",
    "print('jet0:', 'Best degree:', best_degree0, 'Best lambda:', best_lambda0, 'Best score:', best_score0, 'Best loss:', best_loss0)\n",
    "best_lambda1, best_degree1, best_accuracy1, best_loss1 = logistic_find_best_parameters(labels1, estimated_data1, lambdas, gamma, degrees)\n",
    "print('jet1:', 'Best degree:', best_degree1, 'Best lambda:', best_lambda1, 'Best score:', best_score1, 'Best loss:', best_loss1)\n",
    "best_lambda2, best_degree2, best_accuracy2, best_loss2 = logistic_find_best_parameters(labels2, estimated_data2, lambdas, gamma, degrees)\n",
    "print('jet2:', 'Best degree:', best_degree2, 'Best lambda:', best_lambda2, 'Best score:', best_score2, 'Best loss:', best_loss1)\n",
    "\n",
    "#Prediction making\n",
    "y_pred0 = make_predictions_log(estimated_data0, labels0, estimated_data0_te, best_lambda0, best_degree0, max_iters, gamma)\n",
    "y_pred1 = make_predictions_log(estimated_data1, labels1, estimated_data1_te, best_lambda1, best_degree1, max_iters, gamma)\n",
    "y_pred2 = make_predictions_log(estimated_data2, labels2, estimated_data2_te, best_lambda2, best_degree2, max_iters, gamma)\n",
    "\n",
    "#Submission making\n",
    "labels_te[np.where(raw_data_te[:,22] == 0)[0]] = y_pred0\n",
    "labels_te[np.where(raw_data_te[:,22] == 1)[0]] = y_pred1\n",
    "labels_te[np.where(raw_data_te[:,22] > 1)[0]] = y_pred2\n",
    "\n",
    "create_csv_submission(indices_te, labels_te, 'jet_log.csv')"
   ]
  },
  {
   "cell_type": "code",
   "execution_count": null,
   "metadata": {},
   "outputs": [],
   "source": []
  }
 ],
 "metadata": {
  "kernelspec": {
   "display_name": "Python 3",
   "language": "python",
   "name": "python3"
  },
  "language_info": {
   "codemirror_mode": {
    "name": "ipython",
    "version": 3
   },
   "file_extension": ".py",
   "mimetype": "text/x-python",
   "name": "python",
   "nbconvert_exporter": "python",
   "pygments_lexer": "ipython3",
   "version": "3.6.5"
  }
 },
 "nbformat": 4,
 "nbformat_minor": 2
}
