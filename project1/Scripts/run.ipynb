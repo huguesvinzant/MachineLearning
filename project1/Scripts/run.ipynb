{
 "cells": [
  {
   "cell_type": "code",
   "execution_count": 1,
   "metadata": {},
   "outputs": [],
   "source": [
    "# Useful starting lines\n",
    "%matplotlib inline\n",
    "import numpy as np\n",
    "import matplotlib.pyplot as plt\n",
    "%load_ext autoreload\n",
    "%autoreload 2\n",
    "\n",
    "from proj1_helpers import *\n",
    "from implementations import *"
   ]
  },
  {
   "cell_type": "code",
   "execution_count": 2,
   "metadata": {},
   "outputs": [],
   "source": [
    "#Data loading\n",
    "labels, raw_data, indices = load_csv_data('train.csv', sub_sample=False)\n",
    "labels_te, raw_data_te, indices_te = load_csv_data('test.csv', sub_sample=False)"
   ]
  },
  {
   "cell_type": "code",
   "execution_count": 5,
   "metadata": {},
   "outputs": [
    {
     "name": "stdout",
     "output_type": "stream",
     "text": [
      "Data processing...: Data division according to jets\n",
      "Data processing...: Train: 0 jet (99913, 30) , 1 jet (77544, 30) , 2 or more jets (72543, 30)\n",
      "Data processing...: Test: 0 jet (227458, 30) , 1 jet (175338, 30) , 2 or more jets (165442, 30)\n",
      "Data processing...: Remove features with null variance\n",
      "Data processing...: Columns of \"0 jet\" with variance = 0 : (array([ 4,  5,  6, 12, 22, 23, 24, 25, 26, 27, 28, 29]),)\n",
      "Data processing...: New data shape \"0 jet\" : (99913, 18)\n",
      "Data processing...: Columns of \"1 jet\" with variance = 0 : (array([ 4,  5,  6, 12, 22, 26, 27, 28]),)\n",
      "Data processing...: New data shape \"1 jet\" : (77544, 22)\n",
      "Data processing...: Columns of \"2 or more jets\" with variance = 0 : (array([], dtype=int64),)\n",
      "Data processing...: New data shape  \"2 or more jets\" : (72543, 30)\n",
      "Data processing...: Data standardization\n",
      "Data processing...: No column 0 estimation\n"
     ]
    }
   ],
   "source": [
    "        # ----  DATA PREPROCESSING  ----\n",
    "\n",
    "#Data division according to jets\n",
    "\n",
    "print('Data processing...: Data division according to jets')\n",
    "labels0, data0, labels1, data1, labels2, data2 = divide_data(labels, raw_data)\n",
    "labels0_te, data0_te, labels1_te, data1_te, labels2_te, data2_te = divide_data(labels_te, raw_data_te)\n",
    "\n",
    "print('Data processing...: Train:', '0 jet', data0.shape, ', 1 jet', data1.shape, ', 2 or more jets', data2.shape)\n",
    "print('Data processing...: Test:', '0 jet', data0_te.shape, ', 1 jet', data1_te.shape, ', 2 or more jets', data2_te.shape)\n",
    "\n",
    "#Remove features with variance 0\n",
    "\n",
    "print('Data processing...: Remove features with null variance')\n",
    "clean_data0, clean_data0_te,no_var_columns0 = remove_novar_features(data0, data0_te)\n",
    "print('Data processing...: Columns of \"0 jet\" with variance = 0 :', no_var_columns0) \n",
    "print('Data processing...: New data shape \"0 jet\" :', clean_data0.shape) \n",
    "clean_data1, clean_data1_te,no_var_columns1 = remove_novar_features(data1, data1_te)\n",
    "print('Data processing...: Columns of \"1 jet\" with variance = 0 :', no_var_columns1)\n",
    "print('Data processing...: New data shape \"1 jet\" :', clean_data1.shape) \n",
    "clean_data2, clean_data2_te,no_var_columns2 = remove_novar_features(data2, data2_te)\n",
    "print('Data processing...: Columns of \"2 or more jets\" with variance = 0 :', no_var_columns2) \n",
    "print('Data processing...: New data shape  \"2 or more jets\" :', clean_data2.shape) \n",
    "\n",
    "model = input(\"Which model (A, B, C or D) do you want to use? (The final model is model B.) \")\n",
    "while (model != 'A' and model != 'B' and model != 'C' and model != 'D'):\n",
    "    print('You have to enter A, B, C or D as a capital letter.')\n",
    "    model = input(\"Which model (A, B, C or D) do you want to use? \")\n",
    "\n",
    "#Data standardization\n",
    "\n",
    "\n",
    "print('Data processing...: Data standardization')\n",
    "std_data0, mean0, std0 = standardize_train(clean_data0, model) \n",
    "std_data0_te = standardize_test(clean_data0_te, mean0, std0, model)\n",
    "\n",
    "std_data1, mean1, std1 = standardize_train(clean_data1, model)\n",
    "std_data1_te = standardize_test(clean_data1_te, mean1, std1, model)\n",
    "\n",
    "std_data2, mean2, std2 = standardize_train(clean_data2, model)\n",
    "std_data2_te = standardize_test(clean_data2_te, mean2, std2, model)\n",
    "\n",
    "\n",
    "#Column 0 estimation or not\n",
    "\n",
    "if (model == 'A' or model == 'C'):\n",
    "    print('Data processing...: Estimation of column 0 using least squares')\n",
    "    estimated_data0, weights_train0 = column_estimation_train(std_data0)\n",
    "    estimated_data0_te = column_estimation_test(std_data0_te, weights_train0)\n",
    "\n",
    "    estimated_data1, weights_train1 = column_estimation_train(std_data1)\n",
    "    estimated_data1_te = column_estimation_test(std_data1_te, weights_train1)\n",
    "\n",
    "    estimated_data2, weights_train2 = column_estimation_train(std_data2)\n",
    "    estimated_data2_te = column_estimation_test(std_data2_te, weights_train2)\n",
    "\n",
    "if (model == 'B' or model == 'D'):\n",
    "    print('Data processing...: No column 0 estimation')\n",
    "    estimated_data0 = std_data0\n",
    "    estimated_data0_te = std_data0_te\n",
    "    \n",
    "    estimated_data1 = std_data1\n",
    "    estimated_data1_te = std_data1_te\n",
    "    \n",
    "    estimated_data2 = std_data2\n",
    "    estimated_data2_te = std_data2_te"
   ]
  },
  {
   "cell_type": "code",
   "execution_count": 7,
   "metadata": {},
   "outputs": [
    {
     "name": "stdout",
     "output_type": "stream",
     "text": [
      "Ridge regression... : Finding best parameters with cross validation...\n",
      "Ridge regression... : 0 jet: Best degree: 12 Best lambda: 0.0001 Best score: 0.8424181763587228\n",
      "Ridge regression... : 1 jet: Best degree: 12 Best lambda: 0.0001 Best score: 0.8056229043074543\n",
      "Ridge regression... : 2 or more jets: Best degree: 13 Best lambda: 0.0001 Best score: 0.8333471188309899\n"
     ]
    }
   ],
   "source": [
    "        # ----  RIDGE REGRESSION  ----\n",
    "\n",
    "if (model == 'A' or model == 'B'):\n",
    "    #Define parameters\n",
    "    degrees = [9,10,11,12,13]\n",
    "    lambdas = np.logspace(-1, -5, 5)\n",
    "    k_fold = 10\n",
    "    seed = 23\n",
    "\n",
    "    #Find best parameters (cross validation)\n",
    "    print('Ridge regression... : Finding best parameters with cross validation...')\n",
    "    best_degree0, best_lambda0, best_score0, scores0 = find_best_parameters_general(labels0, estimated_data0, k_fold, seed, lambdas=lambdas, degrees=degrees)\n",
    "    print('Ridge regression... : 0 jet:', 'Best degree:', best_degree0, 'Best lambda:', best_lambda0, 'Best score:', best_score0)\n",
    "\n",
    "    best_degree1, best_lambda1,  best_score1, scores1 = find_best_parameters_general(labels1, estimated_data1, k_fold, seed, lambdas=lambdas, degrees=degrees)\n",
    "    print('Ridge regression... : 1 jet:', 'Best degree:', best_degree1, 'Best lambda:', best_lambda1, 'Best score:', best_score1)\n",
    "\n",
    "    best_degree2, best_lambda2, best_score2, scores2 = find_best_parameters_general(labels2, estimated_data2, k_fold, seed, lambdas=lambdas, degrees=degrees)\n",
    "    print('Ridge regression... : 2 or more jets:', 'Best degree:', best_degree2, 'Best lambda:', best_lambda2, 'Best score:', best_score2)"
   ]
  },
  {
   "cell_type": "code",
   "execution_count": 37,
   "metadata": {},
   "outputs": [
    {
     "data": {
      "image/png": "[encoded data removed]",
      "text/plain": [
       "<Figure size 720x720 with 2 Axes>"
      ]
     },
     "metadata": {},
     "output_type": "display_data"
    }
   ],
   "source": [
    "fig, ax = plt.subplots(figsize=(10, 10))\n",
    "im = ax.imshow((scores1.T*100), cmap='Blues')\n",
    "clb = ax.figure.colorbar(im, fraction=0.0468, pad=0.02)\n",
    "clb.set_label('Accuracy', rotation=-90, va=\"bottom\", fontsize=20)\n",
    "ax.set_xticks(np.arange(scores0.shape[0]))\n",
    "ax.set_yticks(np.arange(scores0.shape[1]))\n",
    "ax.set_xticklabels(degrees)\n",
    "ax.set_yticklabels(lambdas)\n",
    "ax.set_xlabel('Degree $\\mathit{n}$', fontsize=20)\n",
    "ax.set_ylabel('$\\lambda$', fontsize=20)\n",
    "plt.title('1 jet', fontsize=30)\n",
    "plt.savefig('color_jet1_b.png')\n",
    "plt.show()\n",
    "\n",
    "#plt.plot(degrees, np.mean(scores0, axis = 1), label = '0 jet')\n",
    "#plt.plot(degrees, np.mean(scores1, axis = 1), label = '1 jet')\n",
    "#plt.plot(degrees, np.mean(scores2, axis = 1), label = '2 or more jets')\n",
    "#plt.ylabel('Accuracy')\n",
    "#plt.xlabel('Degree')\n",
    "#plt.legend()\n",
    "#plt.show\n",
    "#plt.savefig('plot.png')"
   ]
  },
  {
   "cell_type": "code",
   "execution_count": 30,
   "metadata": {},
   "outputs": [
    {
     "ename": "KeyboardInterrupt",
     "evalue": "",
     "output_type": "error",
     "traceback": [
      "\u001b[0;31m---------------------------------------------------------------------------\u001b[0m",
      "\u001b[0;31mKeyboardInterrupt\u001b[0m                         Traceback (most recent call last)",
      "\u001b[0;32m<ipython-input-30-d4af772cc9e4>\u001b[0m in \u001b[0;36m<module>\u001b[0;34m()\u001b[0m\n\u001b[1;32m      1\u001b[0m \u001b[0;31m#Prediction making\u001b[0m\u001b[0;34m\u001b[0m\u001b[0;34m\u001b[0m\u001b[0m\n\u001b[1;32m      2\u001b[0m \u001b[0my_pred0\u001b[0m \u001b[0;34m=\u001b[0m \u001b[0mmake_predictions\u001b[0m\u001b[0;34m(\u001b[0m\u001b[0mestimated_data0\u001b[0m\u001b[0;34m,\u001b[0m \u001b[0mlabels0\u001b[0m\u001b[0;34m,\u001b[0m \u001b[0mestimated_data0_te\u001b[0m\u001b[0;34m,\u001b[0m \u001b[0mbest_lambda0\u001b[0m\u001b[0;34m,\u001b[0m \u001b[0mbest_degree0\u001b[0m\u001b[0;34m)\u001b[0m\u001b[0;34m\u001b[0m\u001b[0m\n\u001b[0;32m----> 3\u001b[0;31m \u001b[0my_pred1\u001b[0m \u001b[0;34m=\u001b[0m \u001b[0mmake_predictions\u001b[0m\u001b[0;34m(\u001b[0m\u001b[0mestimated_data1\u001b[0m\u001b[0;34m,\u001b[0m \u001b[0mlabels1\u001b[0m\u001b[0;34m,\u001b[0m \u001b[0mestimated_data1_te\u001b[0m\u001b[0;34m,\u001b[0m \u001b[0mbest_lambda1\u001b[0m\u001b[0;34m,\u001b[0m \u001b[0mbest_degree1\u001b[0m\u001b[0;34m)\u001b[0m\u001b[0;34m\u001b[0m\u001b[0m\n\u001b[0m\u001b[1;32m      4\u001b[0m \u001b[0my_pred2\u001b[0m \u001b[0;34m=\u001b[0m \u001b[0mmake_predictions\u001b[0m\u001b[0;34m(\u001b[0m\u001b[0mestimated_data2\u001b[0m\u001b[0;34m,\u001b[0m \u001b[0mlabels2\u001b[0m\u001b[0;34m,\u001b[0m \u001b[0mestimated_data2_te\u001b[0m\u001b[0;34m,\u001b[0m \u001b[0mbest_lambda2\u001b[0m\u001b[0;34m,\u001b[0m \u001b[0mbest_degree0\u001b[0m\u001b[0;34m)\u001b[0m\u001b[0;34m\u001b[0m\u001b[0m\n\u001b[1;32m      5\u001b[0m \u001b[0;34m\u001b[0m\u001b[0m\n",
      "\u001b[0;32m~/Documents/GitHub/MachineLearning/project1/Scripts/implementations.py\u001b[0m in \u001b[0;36mmake_predictions\u001b[0;34m(estimated_data, labels, estimated_data_te, best_lambda, best_degree)\u001b[0m\n\u001b[1;32m    301\u001b[0m \u001b[0;34m\u001b[0m\u001b[0m\n\u001b[1;32m    302\u001b[0m     \u001b[0;31m#Build polynoms\u001b[0m\u001b[0;34m\u001b[0m\u001b[0;34m\u001b[0m\u001b[0m\n\u001b[0;32m--> 303\u001b[0;31m     \u001b[0mpoly_data\u001b[0m \u001b[0;34m=\u001b[0m \u001b[0mbuild_poly\u001b[0m\u001b[0;34m(\u001b[0m\u001b[0mestimated_data\u001b[0m\u001b[0;34m,\u001b[0m \u001b[0mbest_degree\u001b[0m\u001b[0;34m)\u001b[0m\u001b[0;34m\u001b[0m\u001b[0m\n\u001b[0m\u001b[1;32m    304\u001b[0m     \u001b[0mpoly_data_te\u001b[0m \u001b[0;34m=\u001b[0m \u001b[0mbuild_poly\u001b[0m\u001b[0;34m(\u001b[0m\u001b[0mestimated_data_te\u001b[0m\u001b[0;34m,\u001b[0m \u001b[0mbest_degree\u001b[0m\u001b[0;34m)\u001b[0m\u001b[0;34m\u001b[0m\u001b[0m\n\u001b[1;32m    305\u001b[0m \u001b[0;34m\u001b[0m\u001b[0m\n",
      "\u001b[0;32m~/Documents/GitHub/MachineLearning/project1/Scripts/implementations.py\u001b[0m in \u001b[0;36mbuild_poly\u001b[0;34m(x, degree)\u001b[0m\n\u001b[1;32m    217\u001b[0m     \u001b[0mpoly\u001b[0m \u001b[0;34m=\u001b[0m \u001b[0mnp\u001b[0m\u001b[0;34m.\u001b[0m\u001b[0mones\u001b[0m\u001b[0;34m(\u001b[0m\u001b[0;34m(\u001b[0m\u001b[0mlen\u001b[0m\u001b[0;34m(\u001b[0m\u001b[0mx\u001b[0m\u001b[0;34m)\u001b[0m\u001b[0;34m,\u001b[0m \u001b[0;36m1\u001b[0m\u001b[0;34m)\u001b[0m\u001b[0;34m)\u001b[0m\u001b[0;34m\u001b[0m\u001b[0m\n\u001b[1;32m    218\u001b[0m     \u001b[0;32mfor\u001b[0m \u001b[0mdeg\u001b[0m \u001b[0;32min\u001b[0m \u001b[0mrange\u001b[0m\u001b[0;34m(\u001b[0m\u001b[0;36m1\u001b[0m\u001b[0;34m,\u001b[0m \u001b[0mdegree\u001b[0m\u001b[0;34m+\u001b[0m\u001b[0;36m1\u001b[0m\u001b[0;34m)\u001b[0m\u001b[0;34m:\u001b[0m\u001b[0;34m\u001b[0m\u001b[0m\n\u001b[0;32m--> 219\u001b[0;31m         \u001b[0mpoly\u001b[0m \u001b[0;34m=\u001b[0m \u001b[0mnp\u001b[0m\u001b[0;34m.\u001b[0m\u001b[0mc_\u001b[0m\u001b[0;34m[\u001b[0m\u001b[0mpoly\u001b[0m\u001b[0;34m,\u001b[0m \u001b[0mnp\u001b[0m\u001b[0;34m.\u001b[0m\u001b[0mpower\u001b[0m\u001b[0;34m(\u001b[0m\u001b[0mx\u001b[0m\u001b[0;34m,\u001b[0m \u001b[0mdeg\u001b[0m\u001b[0;34m)\u001b[0m\u001b[0;34m]\u001b[0m\u001b[0;34m\u001b[0m\u001b[0m\n\u001b[0m\u001b[1;32m    220\u001b[0m \u001b[0;34m\u001b[0m\u001b[0m\n\u001b[1;32m    221\u001b[0m     \u001b[0;32mreturn\u001b[0m \u001b[0mpoly\u001b[0m\u001b[0;34m\u001b[0m\u001b[0m\n",
      "\u001b[0;31mKeyboardInterrupt\u001b[0m: "
     ]
    }
   ],
   "source": [
    "#Prediction making\n",
    "y_pred0 = make_predictions(estimated_data0, labels0, estimated_data0_te, best_lambda0, best_degree0)\n",
    "y_pred1 = make_predictions(estimated_data1, labels1, estimated_data1_te, best_lambda1, best_degree1)\n",
    "y_pred2 = make_predictions(estimated_data2, labels2, estimated_data2_te, best_lambda2, best_degree0)\n",
    "\n",
    "#Submission making\n",
    "labels_te[np.where(raw_data_te[:,22] == 0)[0]] = y_pred0\n",
    "labels_te[np.where(raw_data_te[:,22] == 1)[0]] = y_pred1\n",
    "labels_te[np.where(raw_data_te[:,22] > 1)[0]] = y_pred2\n",
    "\n",
    "create_csv_submission(indices_te, labels_te, 'test_jet.csv')"
   ]
  },
  {
   "cell_type": "code",
   "execution_count": 15,
   "metadata": {},
   "outputs": [],
   "source": [
    "        # ----  LOGISTIC REGRESSION  ----\n",
    "\n",
    "if (model == 'C' or model == 'D'):\n",
    "    #Labels conversion to binary values\n",
    "\n",
    "    labels0[labels0 == -1] = 0\n",
    "    labels1[labels1 == -1] = 0\n",
    "    labels2[labels2 == -1] = 0\n",
    "\n",
    "    #Define parameters\n",
    "\n",
    "    degrees = range(5)\n",
    "    lambdas = np.logspace(-1, -5, 5)\n",
    "    k_fold = 10\n",
    "    gamma = 1e-5\n",
    "\n",
    "    #Find best parameters (cross validation)\n",
    "\n",
    "    print('Logistic regression...: Finding best parameters with cross validation...')\n",
    "    best_degree0, best_lambda0, best_score0, _ = find_best_parameters_general(labels0, estimated_data0, k_fold, seed, lambdas=lambdas, degrees=degrees, gamma=gamma)\n",
    "    print('Logistic regression...: 0 jet:', 'Best degree:', best_degree0, 'Best lambda:', best_lambda0, 'Best score:', best_score0)\n",
    "\n",
    "    best_degree1, best_lambda1, best_score1, _ = find_best_parameters_general(labels1, estimated_data1, k_fold, seed, lambdas=lambdas, gamma=gamma, degrees=degrees)\n",
    "    print('Logistic regression...: 1 jet:', 'Best degree:', best_degree1, 'Best lambda:', best_lambda1, 'Best score:', best_score1)\n",
    "\n",
    "    best_degree2, best_lambda2, best_score2, _ = find_best_parameters_general(labels2, estimated_data2, k_fold, seed, lambdas=lambdas, gamma=gamma, degrees=degrees)\n",
    "    print('Logistic regression...: 2 or more jets:', 'Best degree:', best_degree2, 'Best lambda:', best_lambda2, 'Best score:', best_score2)\n",
    "\n",
    "    #Prediction \n",
    "\n",
    "    max_iters = 1000\n",
    "    y_pred0 = make_predictions_log(estimated_data0, labels0, estimated_data0_te, best_lambda0, best_degree0, max_iters, gamma)\n",
    "    y_pred1 = make_predictions_log(estimated_data1, labels1, estimated_data1_te, best_lambda1, best_degree1, max_iters, gamma)\n",
    "    y_pred2 = make_predictions_log(estimated_data2, labels2, estimated_data2_te, best_lambda2, best_degree2, max_iters, gamma)\n",
    "\n",
    "    #Submission \n",
    "\n",
    "    labels_te[np.where(raw_data_te[:,22] == 0)[0]] = y_pred0\n",
    "    labels_te[np.where(raw_data_te[:,22] == 1)[0]] = y_pred1\n",
    "    labels_te[np.where(raw_data_te[:,22] > 1)[0]] = y_pred2\n",
    "\n",
    "    create_csv_submission(indices_te, labels_te, 'jet_log.csv')"
   ]
  },
  {
   "cell_type": "code",
   "execution_count": null,
   "metadata": {},
   "outputs": [],
   "source": [
    "#Prediction making\n",
    "y_pred0 = make_predictions_log(estimated_data0, labels0, estimated_data0_te, best_lambda0, best_degree0, max_iters, gamma)\n",
    "y_pred1 = make_predictions_log(estimated_data1, labels1, estimated_data1_te, best_lambda1, best_degree1, max_iters, gamma)\n",
    "y_pred2 = make_predictions_log(estimated_data2, labels2, estimated_data2_te, best_lambda2, best_degree2, max_iters, gamma)\n",
    "\n",
    "#Submission making\n",
    "labels_te[np.where(raw_data_te[:,22] == 0)[0]] = y_pred0\n",
    "labels_te[np.where(raw_data_te[:,22] == 1)[0]] = y_pred1\n",
    "labels_te[np.where(raw_data_te[:,22] > 1)[0]] = y_pred2\n",
    "\n",
    "create_csv_submission(indices_te, labels_te, 'jet_log.csv')"
   ]
  },
  {
   "cell_type": "code",
   "execution_count": null,
   "metadata": {},
   "outputs": [],
   "source": []
  }
 ],
 "metadata": {
  "kernelspec": {
   "display_name": "Python 3",
   "language": "python",
   "name": "python3"
  },
  "language_info": {
   "codemirror_mode": {
    "name": "ipython",
    "version": 3
   },
   "file_extension": ".py",
   "mimetype": "text/x-python",
   "name": "python",
   "nbconvert_exporter": "python",
   "pygments_lexer": "ipython3",
   "version": "3.6.5"
  }
 },
 "nbformat": 4,
 "nbformat_minor": 2
}
