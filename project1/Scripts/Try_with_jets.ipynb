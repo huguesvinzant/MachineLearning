{
 "cells": [
  {
   "cell_type": "code",
<<<<<<< HEAD
   "execution_count": 44,
=======
   "execution_count": 2,
>>>>>>> 36fdd018dd3f84e9a2f074e356e21dbb04de34b8
   "metadata": {},
   "outputs": [],
   "source": [
    "# Useful starting lines\n",
    "%matplotlib inline\n",
    "import numpy as np\n",
    "import matplotlib.pyplot as plt\n",
    "%load_ext autoreload\n",
    "%autoreload 2\n",
    "\n",
    "from proj1_helpers import *\n",
    "from Hugues import *"
   ]
  },
  {
   "cell_type": "markdown",
   "metadata": {},
   "source": [
    "Data exploration and cleaning\n",
    "==="
   ]
  },
  {
   "cell_type": "markdown",
   "metadata": {},
   "source": [
    "Load data"
   ]
  },
  {
   "cell_type": "code",
<<<<<<< HEAD
   "execution_count": 45,
=======
   "execution_count": 3,
>>>>>>> 36fdd018dd3f84e9a2f074e356e21dbb04de34b8
   "metadata": {},
   "outputs": [],
   "source": [
    "from proj1_helpers import *\n",
    "\n",
    "labels, raw_data, indices = load_csv_data('train.csv', sub_sample=False)\n",
    "labels_te, raw_data_te, indices_te = load_csv_data('test.csv', sub_sample=False)"
   ]
  },
  {
   "cell_type": "markdown",
   "metadata": {},
   "source": [
    "Divide data"
   ]
  },
  {
   "cell_type": "code",
<<<<<<< HEAD
   "execution_count": 46,
=======
   "execution_count": 4,
>>>>>>> 36fdd018dd3f84e9a2f074e356e21dbb04de34b8
   "metadata": {},
   "outputs": [
    {
     "name": "stdout",
     "output_type": "stream",
     "text": [
      "Train: 0 jet (99913, 30) , 1 jet (77544, 30) , 2 jet (72543, 30)\n",
      "Test: 0 jet (227458, 30) , 1 jet (175338, 30) , 2 jet (165442, 30)\n"
     ]
    }
   ],
   "source": [
    "labels0, data0, labels1, data1, labels2, data2 = divide_data(labels, raw_data)\n",
    "labels0_te, data0_te, labels1_te, data1_te, labels2_te, data2_te = divide_data(labels_te, raw_data_te)\n",
    "\n",
    "print('Train:', '0 jet', data0.shape, ', 1 jet', data1.shape, ', 2 jet', data2.shape)\n",
    "print('Test:', '0 jet', data0_te.shape, ', 1 jet', data1_te.shape, ', 2 jet', data2_te.shape)"
   ]
  },
  {
   "cell_type": "markdown",
   "metadata": {},
   "source": [
    "Remove useless columns"
   ]
  },
  {
   "cell_type": "code",
<<<<<<< HEAD
   "execution_count": 47,
=======
   "execution_count": 5,
>>>>>>> 36fdd018dd3f84e9a2f074e356e21dbb04de34b8
   "metadata": {},
   "outputs": [
    {
     "name": "stdout",
     "output_type": "stream",
     "text": [
      "Columns with variance = 0 : (array([ 4,  5,  6, 12, 22, 23, 24, 25, 26, 27, 28, 29]),)\n",
      "New data shape : (99913, 18)\n",
      "Columns with variance = 0 : (array([ 4,  5,  6, 12, 22, 26, 27, 28]),)\n",
      "New data shape : (77544, 22)\n",
      "Columns with variance = 0 : (array([], dtype=int64),)\n",
      "New data shape : (72543, 30)\n"
     ]
    }
   ],
   "source": [
    "# enlever les features avec variance 0\n",
    "clean_data0, clean_data0_te = remove_novar_features(data0, data0_te)\n",
    "clean_data1, clean_data1_te = remove_novar_features(data1, data1_te)\n",
    "clean_data2, clean_data2_te = remove_novar_features(data2, data2_te)"
   ]
  },
  {
   "cell_type": "markdown",
   "metadata": {},
   "source": [
    "Standardize data"
   ]
  },
  {
   "cell_type": "code",
<<<<<<< HEAD
   "execution_count": 60,
=======
   "execution_count": 6,
>>>>>>> 36fdd018dd3f84e9a2f074e356e21dbb04de34b8
   "metadata": {},
   "outputs": [],
   "source": [
    "std_data0, mean0, std0 = standardize_train(clean_data0) \n",
    "std_data0_te = standardize_test(clean_data0_te, mean0, std0)\n",
    "\n",
    "std_data1, mean1, std1 = standardize_train(clean_data1)\n",
    "std_data1_te = standardize_test(clean_data1_te, mean1, std1)\n",
    "\n",
    "std_data2, mean2, std2 = standardize_train(clean_data2)\n",
    "std_data2_te = standardize_test(clean_data2_te, mean2, std2)"
   ]
  },
  {
   "cell_type": "markdown",
   "metadata": {},
   "source": [
    "Estimation of feature 0"
   ]
  },
  {
   "cell_type": "code",
<<<<<<< HEAD
   "execution_count": 61,
=======
   "execution_count": 7,
>>>>>>> 36fdd018dd3f84e9a2f074e356e21dbb04de34b8
   "metadata": {},
   "outputs": [
    {
     "name": "stdout",
     "output_type": "stream",
     "text": [
      "26123 NaN lines found\n",
      "7562 NaN lines found\n",
      "4429 NaN lines found\n"
     ]
    }
   ],
   "source": [
    "estimated_data0, weights_train0 = column_estimation_train(std_data0) # best degree 1, lambda 0\n",
    "estimated_data0_te = column_estimation_test(std_data0_te, weights_train0)\n",
    "\n",
    "estimated_data1, weights_train1 = column_estimation_train(std_data1) # best degree 3, lambda 1e-6\n",
    "estimated_data1_te = column_estimation_test(std_data1_te, weights_train1)\n",
    "\n",
    "estimated_data2, weights_train2 = column_estimation_train(std_data2) # best degree 3, lambda 0.0001\n",
    "estimated_data2_te = column_estimation_test(std_data2_te, weights_train2)"
   ]
  },
  {
   "cell_type": "markdown",
   "metadata": {},
   "source": [
    "Find best parameters\n",
    "==="
   ]
  },
  {
   "cell_type": "code",
<<<<<<< HEAD
   "execution_count": 62,
=======
   "execution_count": 8,
>>>>>>> 36fdd018dd3f84e9a2f074e356e21dbb04de34b8
   "metadata": {},
   "outputs": [
    {
     "name": "stdout",
     "output_type": "stream",
     "text": [
      "Best degree: 10 Best lambda: 1e-06 Best score: 0.8409668701831648\n",
      "Best degree: 12 Best lambda: 1e-06 Best score: 0.8035981428939902\n",
      "Best degree: 11 Best lambda: 0.001 Best score: 0.8271022883926109\n"
     ]
    }
   ],
   "source": [
    "### Parameters\n",
    "degrees = [9,10,11,12]\n",
    "lambdas = np.logspace(-1, -10, 10)\n",
    "k_fold = 10\n",
    "seed = 27\n",
    "\n",
    "best_degree0, best_lambda0 = find_best_parameters(labels0, estimated_data0, k_fold, lambdas, degrees, seed)\n",
    "best_degree1, best_lambda1 = find_best_parameters(labels1, estimated_data1, k_fold, lambdas, degrees, seed)\n",
    "best_degree2, best_lambda2 = find_best_parameters(labels2, estimated_data2, k_fold, lambdas, degrees, seed)"
   ]
  },
  {
   "cell_type": "markdown",
   "metadata": {},
   "source": [
    "Prediction\n",
    "==="
   ]
  },
  {
   "cell_type": "code",
<<<<<<< HEAD
   "execution_count": 63,
=======
   "execution_count": 9,
>>>>>>> 36fdd018dd3f84e9a2f074e356e21dbb04de34b8
   "metadata": {},
   "outputs": [],
   "source": [
    "# Train model to get weights and predict on test\n",
    "y_pred0 = make_predictions(estimated_data0, labels0, std_data0_te, best_lambda0, best_degree0)\n",
    "y_pred1 = make_predictions(estimated_data1, labels1, std_data1_te, best_lambda1, best_degree1)\n",
    "y_pred2 = make_predictions(estimated_data2, labels2, std_data2_te, best_lambda2, best_degree0)"
   ]
  },
  {
   "cell_type": "code",
<<<<<<< HEAD
   "execution_count": 64,
=======
   "execution_count": 11,
>>>>>>> 36fdd018dd3f84e9a2f074e356e21dbb04de34b8
   "metadata": {},
   "outputs": [
    {
     "name": "stdout",
     "output_type": "stream",
     "text": [
      "(227458,)\n"
     ]
    }
   ],
   "source": [
    "\n",
    "labels_te[np.where(raw_data_te[:,22] == 0)[0]] = y_pred0\n",
    "labels_te[np.where(raw_data_te[:,22] == 1)[0]] = y_pred1\n",
    "labels_te[np.where(raw_data_te[:,22] > 1)[0]] = y_pred2\n",
    "\n",
    "create_csv_submission(indices_te, labels_te, 'test_jet.csv')"
   ]
  },
  {
   "cell_type": "code",
   "execution_count": null,
   "metadata": {},
   "outputs": [],
   "source": []
  }
 ],
 "metadata": {
  "kernelspec": {
   "display_name": "Python 3",
   "language": "python",
   "name": "python3"
  },
  "language_info": {
   "codemirror_mode": {
    "name": "ipython",
    "version": 3
   },
   "file_extension": ".py",
   "mimetype": "text/x-python",
   "name": "python",
   "nbconvert_exporter": "python",
   "pygments_lexer": "ipython3",
   "version": "3.6.5"
  }
 },
 "nbformat": 4,
 "nbformat_minor": 2
}
