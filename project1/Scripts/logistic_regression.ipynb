{
 "cells": [
  {
   "cell_type": "code",
   "execution_count": 110,
   "metadata": {},
   "outputs": [
    {
     "name": "stdout",
     "output_type": "stream",
     "text": [
      "The autoreload extension is already loaded. To reload it, use:\n",
      "  %reload_ext autoreload\n"
     ]
    }
   ],
   "source": [
    "# Useful starting lines\n",
    "%matplotlib inline\n",
    "import numpy as np\n",
    "import matplotlib.pyplot as plt\n",
    "%load_ext autoreload\n",
    "%autoreload 2\n",
    "\n",
    "from proj1_helpers import *\n",
    "from functions import *"
   ]
  },
  {
   "cell_type": "markdown",
   "metadata": {},
   "source": [
    "Data loading\n",
    "==="
   ]
  },
  {
   "cell_type": "code",
   "execution_count": 111,
   "metadata": {},
   "outputs": [
    {
     "name": "stdout",
     "output_type": "stream",
     "text": [
      "Dimension train: (250000, 30)\n"
     ]
    }
   ],
   "source": [
    "labels, raw_data, indices = load_csv_data('train.csv', sub_sample=False)\n",
    "#labels_te, raw_data_te, indices_te = load_csv_data('test.csv', sub_sample=False)\n",
    "\n",
    "n_samples, n_raw_features = np.shape(raw_data)\n",
    "#n_samples_te, n_raw_features_te = np.shape(raw_data_te)\n",
    "print(f'Dimension train: {np.shape(raw_data)}')\n",
    "#print(f'Dimension test: {np.shape(raw_data_te)}')"
   ]
  },
  {
   "cell_type": "markdown",
   "metadata": {},
   "source": [
    "Data processing\n",
    "==="
   ]
  },
  {
   "cell_type": "markdown",
   "metadata": {},
   "source": [
    "Standardization"
   ]
  },
  {
   "cell_type": "code",
   "execution_count": 112,
   "metadata": {},
   "outputs": [],
   "source": [
    "nan_data = meaningless_to_nan(raw_data)\n",
    "std_data = standardize(nan_data)\n",
    "\n",
    "#nan_data_te = meaningless_to_nan(raw_data_te)\n",
    "#std_data_te= standardize(nan_data_te)"
   ]
  },
  {
   "cell_type": "markdown",
   "metadata": {},
   "source": [
    "PCA"
   ]
  },
  {
   "cell_type": "code",
   "execution_count": 113,
   "metadata": {},
   "outputs": [
    {
     "name": "stdout",
     "output_type": "stream",
     "text": [
      "Kept features: 12\n",
      "Shape of PCA train data: (250000, 12)\n"
     ]
    }
   ],
   "source": [
    "variance_threshold = 0.80\n",
    "\n",
    "eig_val, eig_vec, var = PCA(std_data, variance_threshold)\n",
    "PCA_data = std_data.dot(eig_vec) #i.e. decorrelated data\n",
    "print('Shape of PCA train data:', np.shape(PCA_data))\n",
    "\n",
    "#eig_val_te, eig_vec_te, var_te = PCA(std_data_te, variance_threshold)\n",
    "#PCA_data_te = std_data_te.dot(eig_vec_te) #i.e. decorrelated data\n",
    "#print('Shape of PCA test data:', np.shape(PCA_data_te))"
   ]
  },
  {
   "cell_type": "code",
   "execution_count": 120,
   "metadata": {},
   "outputs": [
    {
     "name": "stdout",
     "output_type": "stream",
     "text": [
      "(250000,)\n",
      "(250000, 12)\n"
     ]
    }
   ],
   "source": [
    "labels_reduced = labels\n",
    "print(labels_reduced.shape)\n",
    "data_reduced = PCA_data\n",
    "print(data_reduced.shape)"
   ]
  },
  {
   "cell_type": "code",
   "execution_count": 121,
   "metadata": {},
   "outputs": [
    {
     "name": "stdout",
     "output_type": "stream",
     "text": [
      "Current iteration=0, loss=[0.782332]\n",
      "Current iteration=100, loss=[0.51695545]\n"
     ]
    }
   ],
   "source": [
    "labels_reduced = np.expand_dims(labels_reduced, axis = 1)\n",
    "\n",
    "losses, weights = logistic_regression_gradient_descent_demo(labels_reduced, data_reduced)"
   ]
  },
  {
   "cell_type": "code",
   "execution_count": 122,
   "metadata": {},
   "outputs": [
    {
     "name": "stdout",
     "output_type": "stream",
     "text": [
      "[[-136223.72291561]\n",
      " [ -19989.73426918]\n",
      " [  35446.50853213]\n",
      " [  17847.99400048]\n",
      " [ -61480.7155976 ]\n",
      " [    275.91399699]\n",
      " [ -29080.48808569]\n",
      " [   3131.35749169]\n",
      " [   -143.70578863]\n",
      " [   -732.82429649]\n",
      " [ -10560.03867056]\n",
      " [  -1243.14437662]\n",
      " [  26000.51414557]]\n"
     ]
    }
   ],
   "source": [
    "print(weights)"
   ]
  }
 ],
 "metadata": {
  "kernelspec": {
   "display_name": "Python 3",
   "language": "python",
   "name": "python3"
  },
  "language_info": {
   "codemirror_mode": {
    "name": "ipython",
    "version": 3
   },
   "file_extension": ".py",
   "mimetype": "text/x-python",
   "name": "python",
   "nbconvert_exporter": "python",
   "pygments_lexer": "ipython3",
   "version": "3.6.5"
  }
 },
 "nbformat": 4,
 "nbformat_minor": 2
}
