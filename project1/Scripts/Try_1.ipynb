{
 "cells": [
  {
   "cell_type": "code",
   "execution_count": 1,
   "metadata": {},
   "outputs": [],
   "source": [
    "# Useful starting lines\n",
    "%matplotlib inline\n",
    "import numpy as np\n",
    "import matplotlib.pyplot as plt\n",
    "%load_ext autoreload\n",
    "%autoreload 2\n",
    "\n",
    "from implementations import *\n",
    "from utilitaries import *\n",
    "from functions import *\n",
    "\n"
   ]
  },
  {
   "cell_type": "code",
   "execution_count": 2,
   "metadata": {},
   "outputs": [],
   "source": [
    "from proj1_helpers import *\n",
    "\n",
    "labels, raw_data, indices = load_csv_data('train.csv', sub_sample=False)\n",
    "nan_data = meaningless_to_nan(raw_data)\n"
   ]
  },
  {
   "cell_type": "code",
   "execution_count": 3,
   "metadata": {},
   "outputs": [
    {
     "name": "stdout",
     "output_type": "stream",
     "text": [
      "[ 0  4  5  6 12 23 24 25 26 27 28]\n"
     ]
    }
   ],
   "source": [
    "n_samples, n_features = np.shape(nan_data)\n",
    "features = []\n",
    "for feature in range(n_features):\n",
    "    for sample in range(n_samples):\n",
    "        if np.isnan(nan_data[sample,feature]):\n",
    "            features.append(feature)\n",
    "nan_columns = np.unique(features)\n",
    "print(nan_columns)   "
   ]
  },
  {
   "cell_type": "code",
   "execution_count": 4,
   "metadata": {},
   "outputs": [
    {
     "name": "stdout",
     "output_type": "stream",
     "text": [
      "[162.69645409 162.6964708  162.69679268 162.71342803 163.63473225]\n",
      "[1.51285956 1.51285928 1.5128605  1.51318391 1.52719464]\n",
      "[71292.7858678  71292.76090572 71292.78801144 71304.62961317\n",
      " 71626.52338919]\n",
      "[6.1883634  6.18836306 6.18836519 6.1888764  6.20272531]\n",
      "[0.07897503 0.07897501 0.07897509 0.07898531 0.07942197]\n",
      "[180.47708921 180.47714094 180.48201155 180.90203923 195.7784728 ]\n",
      "[1.48914632 1.48914619 1.48914561 1.48914758 1.48978557]\n",
      "[1.34909665 1.34909649 1.34909526 1.34909244 1.34984758]\n",
      "[170.39793845 170.39787504 170.39759551 170.41733194 171.08817577]\n",
      "[1.99853974 1.9985395  1.99853853 1.99853454 1.99892813]\n",
      "[1.58920892 1.58920895 1.58920826 1.58920449 1.58935043]\n"
     ]
    }
   ],
   "source": [
    "# estimation of columns\n",
    "new_submatrix = np.delete(nan_data,nan_columns, axis = 1)\n",
    "k_fold = 4\n",
    "seed = 2\n",
    "lambdas = np.logspace(-5,-1,5)\n",
    "#accuracy = np.ones(len(lambdas))\n",
    "loss_te = np.ones(len(lambdas))\n",
    "loss_tr = np.ones(len(lambdas))\n",
    "for chosen_feature in nan_columns:\n",
    "    samples = []\n",
    "    for sample in range(n_samples):\n",
    "        if np.isnan(nan_data[sample,chosen_feature]):\n",
    "            samples.append(sample)\n",
    "    nan_lines = samples\n",
    "    new_submatrix0 = np.delete(new_submatrix,nan_lines, axis = 0)\n",
    "    labels_0 = np.delete(nan_data[:,chosen_feature],nan_lines, axis = 0)\n",
    "    k_indices = build_k_indices(labels_0, k_fold, seed)\n",
    "    for idx, lambda_ in enumerate(lambdas):\n",
    "        loss_tr[idx],loss_te[idx] = cross_validation(labels_0, new_submatrix0, k_indices, k_fold, lambda_, degree=1)\n",
    "    best_lambda = lambdas[np.argmin(loss_te)]\n",
    "    print((loss_te))\n",
    "    weights, loss = ridge_regression(labels_0, new_submatrix0, best_lambda)\n",
    "    x_pred = np.dot(new_submatrix[nan_lines,:], weights)\n",
    "    nan_data[nan_lines,chosen_feature] = x_pred\n",
    "    #print(x_pred.shape)\n",
    "estimated_data = nan_data"
   ]
  },
  {
   "cell_type": "code",
   "execution_count": 5,
   "metadata": {},
   "outputs": [
    {
     "name": "stdout",
     "output_type": "stream",
     "text": [
      "1 1e-05\n"
     ]
    }
   ],
   "source": [
    "degrees = range(5)\n",
    "lambdas = np.logspace(-5, -1, 10)\n",
    "k_fold = 4\n",
    "seed = 27\n",
    "k_idx = build_k_indices(labels, k_fold, seed)\n",
    "#loss_tr = np.ones((len(degrees),len(lambdas)))\n",
    "loss_te = np.ones((len(degrees),len(lambdas)))\n",
    "scores = np.ones((len(degrees),len(lambdas)))\n",
    "#labels = np.expand_dims(labels, axis=1) \n",
    "\n",
    "for degree_idx, degree in enumerate(degrees):\n",
    "    for lambda_idx, lambda_ in enumerate(lambdas):\n",
    "        _ ,loss_te[degree_idx, lambda_idx], scores[degree_idx, lambda_idx] = cross_validation_(labels, estimated_data, k_idx, k_fold, lambda_, degree)\n",
    "        print(degree_idx,lambda_idx)\n",
    "best_HP_idx = np.unravel_index(np.argmin(loss_te),np.shape(loss_te))\n",
    "best_degree = degrees[best_HP_idx[0]]\n",
    "best_lambda = lambdas[best_HP_idx[1]]\n",
    "print(best_degree, best_lambda)\n",
    "\n",
    "#weights, loss = ridge_regression(labels,estimated_data, best_lambda)\n"
   ]
  },
  {
   "cell_type": "code",
   "execution_count": null,
   "metadata": {},
   "outputs": [],
   "source": []
  }
 ],
 "metadata": {
  "kernelspec": {
   "display_name": "Python 3",
   "language": "python",
   "name": "python3"
  },
  "language_info": {
   "codemirror_mode": {
    "name": "ipython",
    "version": 3
   },
   "file_extension": ".py",
   "mimetype": "text/x-python",
   "name": "python",
   "nbconvert_exporter": "python",
   "pygments_lexer": "ipython3",
   "version": "3.6.5"
  }
 },
 "nbformat": 4,
 "nbformat_minor": 2
}
