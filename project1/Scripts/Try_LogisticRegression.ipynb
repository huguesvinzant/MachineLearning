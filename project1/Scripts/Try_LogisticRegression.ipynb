{
 "cells": [
  {
   "cell_type": "code",
   "execution_count": 1,
   "metadata": {},
   "outputs": [],
   "source": [
    "# Useful starting lines\n",
    "%matplotlib inline\n",
    "import numpy as np\n",
    "import matplotlib.pyplot as plt\n",
    "%load_ext autoreload\n",
    "%autoreload 2\n",
    "\n",
    "from proj1_helpers import *\n",
    "from essential_functions import *\n",
    "\n"
   ]
  },
  {
   "cell_type": "code",
   "execution_count": 2,
   "metadata": {},
   "outputs": [],
   "source": [
    "from proj1_helpers import *\n",
    "\n",
    "labels, raw_data, indices = load_csv_data('train.csv', sub_sample=False)\n",
    "nan_data = meaningless_to_nan(raw_data)\n",
    "\n",
    "labels_te, raw_data_te, indices_te = load_csv_data('test.csv', sub_sample=False)\n",
    "nan_data_te = meaningless_to_nan(raw_data_te)"
   ]
  },
  {
   "cell_type": "code",
   "execution_count": 3,
   "metadata": {},
   "outputs": [
    {
     "name": "stdout",
     "output_type": "stream",
     "text": [
      "Columns containing NaN [ 0  4  5  6 12 23 24 25 26 27 28]\n"
     ]
    }
   ],
   "source": [
    "# Estimation of columns for train and test set\n",
    "estimated_data,nan_columns_train,weights_train = column_estimation_train(nan_data)\n",
    "estimated_data_te = column_estimation_test(nan_data_te,nan_columns_train,weights_train)"
   ]
  },
  {
   "cell_type": "code",
   "execution_count": 4,
   "metadata": {},
   "outputs": [],
   "source": [
    "# Standardization of train and test set\n",
    "std_data, mean_train, std_train = standardize_train(estimated_data)\n",
    "std_data_te = standardize_test(estimated_data_te, mean_train, std_train)"
   ]
  },
  {
   "cell_type": "code",
   "execution_count": null,
   "metadata": {
    "scrolled": true
   },
   "outputs": [],
   "source": [
    "labels[labels == -1] = 0\n",
    "#initial_w,_ = least_squares(labels, std_data)\n",
    "initial_w = np.zeros(std_data.shape[1])\n",
    "max_iters = 1000\n",
    "gamma = 1e-06\n",
    "lambda_=1e-03\n",
    "\n",
    "losses_l,w_l = logistic_regression(labels,std_data, initial_w,max_iters, gamma)\n",
    "losses_r,w_r = reg_logistic_regression(labels,std_data, lambda_, initial_w,max_iters, gamma)\n",
    "plt.plot(range(len(losses_l)),losses_l)\n",
    "#y_pred = predict_labels_log(w_l, std_data)\n",
    "#accuracy = accuracy (y_pred,labels)"
   ]
  },
  {
   "cell_type": "code",
   "execution_count": null,
   "metadata": {},
   "outputs": [],
   "source": [
    "degrees = [0]\n",
    "gammas = np.logspace(-5,-5,1)\n",
    "#lambdas = np.logspace(-8, -10, 3)\n",
    "k_fold = 2\n",
    "seed = 42\n",
    "\n",
    "k_idx = build_k_indices(labels, k_fold, seed)\n",
    "loss_te = np.ones((len(degrees),len(gammas)))\n",
    "scores = np.ones((len(degrees),len(gammas)))\n",
    "\n",
    "for degree_idx, degree in enumerate(degrees):\n",
    "    for gamma_idx, gamma_ in enumerate(gammas):\n",
    "        _ ,loss_te[degree_idx, gamma_idx], scores[degree_idx, gamma_idx]= cross_validation_(labels, std_data, k_idx, k_fold, gamma_, degree)\n",
    "        print('Degree:', degrees[degree_idx], 'Lambda:', gammas[gamma_idx])\n",
    "        print('Score:', scores[degree_idx, gamma_idx])\n",
    "        print('Loss:', loss_te[degree_idx, gamma_idx])"
   ]
  },
  {
   "cell_type": "code",
   "execution_count": null,
   "metadata": {},
   "outputs": [],
   "source": []
  }
 ],
 "metadata": {
  "kernelspec": {
   "display_name": "Python 3",
   "language": "python",
   "name": "python3"
  },
  "language_info": {
   "codemirror_mode": {
    "name": "ipython",
    "version": 3
   },
   "file_extension": ".py",
   "mimetype": "text/x-python",
   "name": "python",
   "nbconvert_exporter": "python",
   "pygments_lexer": "ipython3",
   "version": "3.6.5"
  }
 },
 "nbformat": 4,
 "nbformat_minor": 2
}
