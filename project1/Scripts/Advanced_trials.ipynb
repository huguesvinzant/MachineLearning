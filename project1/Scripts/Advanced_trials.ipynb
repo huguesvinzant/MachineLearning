{
 "cells": [
  {
   "cell_type": "code",
   "execution_count": 1,
   "metadata": {
    "scrolled": true
   },
   "outputs": [],
   "source": [
    "# Useful starting lines\n",
    "%matplotlib inline\n",
    "import numpy as np\n",
    "import matplotlib.pyplot as plt\n",
    "%load_ext autoreload\n",
    "%autoreload 2\n",
    "\n",
    "from implementations import *\n",
    "from utilitaries import *"
   ]
  },
  {
   "cell_type": "markdown",
   "metadata": {},
   "source": [
    "Data loading\n",
    "==="
   ]
  },
  {
   "cell_type": "code",
   "execution_count": 2,
   "metadata": {},
   "outputs": [
    {
     "name": "stdout",
     "output_type": "stream",
     "text": [
      "Dimension train: (250000, 30)\n",
      "Dimension test: (568238, 30)\n"
     ]
    }
   ],
   "source": [
    "from proj1_helpers import *\n",
    "\n",
    "labels, raw_data, indices = load_csv_data('train.csv', sub_sample=False)\n",
    "labels_te, raw_data_te, indices_te = load_csv_data('test.csv', sub_sample=False)\n",
    "# where b(background) -> -1 and s(signal) -> 1\n",
    "\n",
    "n_samples, n_raw_features = np.shape(raw_data)\n",
    "n_samples_te, n_raw_features_te = np.shape(raw_data_te)\n",
    "print(f'Dimension train: {np.shape(raw_data)}')\n",
    "print(f'Dimension test: {np.shape(raw_data_te)}')"
   ]
  },
  {
   "cell_type": "markdown",
   "metadata": {},
   "source": [
    "Data processing\n",
    "==="
   ]
  },
  {
   "cell_type": "markdown",
   "metadata": {},
   "source": [
    "Standardization"
   ]
  },
  {
   "cell_type": "code",
   "execution_count": 3,
   "metadata": {},
   "outputs": [],
   "source": [
    "nan_data = meaningless_to_nan(raw_data)\n",
    "std_data = standardize(nan_data)\n",
    "\n",
    "nan_data_te = meaningless_to_nan(raw_data_te)\n",
    "std_data_te= standardize(nan_data_te)"
   ]
  },
  {
   "cell_type": "markdown",
   "metadata": {},
   "source": [
    "PCA"
   ]
  },
  {
   "cell_type": "code",
   "execution_count": 4,
   "metadata": {
    "scrolled": true
   },
   "outputs": [
    {
     "name": "stdout",
     "output_type": "stream",
     "text": [
      "Kept features: 12\n",
      "Shape of PCA train data: (250000, 12)\n",
      "Kept features: 12\n",
      "Shape of PCA test data: (568238, 12)\n"
     ]
    },
    {
     "data": {
      "text/plain": [
       "(<matplotlib.axes._subplots.AxesSubplot at 0x10a693470>,\n",
       " [<matplotlib.lines.Line2D at 0x17608bb00>])"
      ]
     },
     "execution_count": 4,
     "metadata": {},
     "output_type": "execute_result"
    },
    {
     "data": {
      "image/png": "[encoded data removed]",
      "text/plain": [
       "<Figure size 1080x360 with 2 Axes>"
      ]
     },
     "metadata": {},
     "output_type": "display_data"
    }
   ],
   "source": [
    "#Principal component analysis - would replace high correlation filter\n",
    "\n",
    "variance_threshold = 0.80 # need to be tested\n",
    "\n",
    "plt.figure(figsize=(15,5))\n",
    "\n",
    "eig_val, eig_vec, var = PCA(std_data, variance_threshold)\n",
    "PCA_data = std_data.dot(eig_vec) #i.e. decorrelated data\n",
    "print('Shape of PCA train data:', np.shape(PCA_data))\n",
    "plt.subplot(1,2,1), plt.plot([0,1,2,3,4,5,6,7,8,9,10,11,12,13,14,15,16,17,18,19,20,21,22,23,24,25,26,27,28,29], var, 'ro')\n",
    "\n",
    "eig_val_te, eig_vec_te, var_te = PCA(std_data_te, variance_threshold)\n",
    "PCA_data_te = std_data_te.dot(eig_vec_te) #i.e. decorrelated data\n",
    "print('Shape of PCA test data:', np.shape(PCA_data_te))\n",
    "plt.subplot(1,2,2), plt.plot([0,1,2,3,4,5,6,7,8,9,10,11,12,13,14,15,16,17,18,19,20,21,22,23,24,25,26,27,28,29], var_te, 'ro')"
   ]
  },
  {
   "cell_type": "markdown",
   "metadata": {},
   "source": [
    "Logitic Regression\n",
    "==="
   ]
  },
  {
   "cell_type": "code",
   "execution_count": null,
   "metadata": {},
   "outputs": [],
   "source": [
    "labels = np.expand_dims(labels, axis=1) \n",
    "lambda_= 0.0001\n",
    "initial_w = np.zeros((12,1))\n",
    "max_iters = 2\n",
    "gamma = 0.01\n",
    "w, loss = reg_logistic_regression(labels,PCA_data[0:100,:], lambda_, initial_w ,max_iters,gamma)\n",
    "print(w)"
   ]
  },
  {
   "cell_type": "markdown",
   "metadata": {},
   "source": [
    "Cross Validation\n",
    "==="
   ]
  },
  {
   "cell_type": "code",
   "execution_count": 7,
   "metadata": {
    "scrolled": false
   },
   "outputs": [],
   "source": [
    "#degrees = range(5)\n",
    "lambdas = np.logspace(-4, -1, 5)\n",
    "k_fold = 4\n",
    "seed = 27\n",
    "\n",
    "#k_idx = build_k_indices(labels, k_fold, seed)\n",
    "\n",
    "#loss_tr = np.ones((len(degrees),len(lambdas)))\n",
    "loss_tr = np.ones(len(lambdas))\n",
    "#loss_te = np.ones((len(degrees),len(lambdas)))\n",
    "loss_te = np.ones(len(lambdas))\n",
    "#for degree_idx in range(len(degrees)):\n",
    "    #degree = degrees[degree_idx]\n",
    "    #if degree == 0:\n",
    "labels = np.expand_dims(labels, axis=1) \n",
    "        #print(labels.shape)\n",
    "#for lambda_idx, lambda_ in enumerate(lambdas):\n",
    "#    loss_tr[lambda_idx], loss_te[lambda_idx] = cross_validation(labels, PCA_data, k_idx, k_fold, lambda_)\n",
    "#    print(lambda_idx)\n",
    "#print(loss_tr, loss_te)"
   ]
  },
  {
   "cell_type": "code",
   "execution_count": null,
   "metadata": {
    "scrolled": true
   },
   "outputs": [],
   "source": [
    "best_HP_idx = np.unravel_index(np.argmin(loss_te),np.shape(loss_te))\n",
    "best_degree = degrees[best_HP_idx[0]]\n",
    "best_lambda = lambdas[best_HP_idx[1]]\n",
    "print('Best degree = ', best_degree, '  Best lambda = ', best_lambda)"
   ]
  },
  {
   "cell_type": "code",
   "execution_count": 50,
   "metadata": {},
   "outputs": [
    {
     "name": "stdout",
     "output_type": "stream",
     "text": [
      "(568238,) (568238,)\n"
     ]
    }
   ],
   "source": [
    "reduced_data_poly = build_poly(PCA_data, 8)\n",
    "reduced_data_poly_te = build_poly(PCA_data_te, 8)\n",
    "\n",
    "weights, loss = ridge_regression(labels, reduced_data_poly, best_lambda)\n",
    "\n",
    "y_pred = predict_labels(weights, reduced_data_poly_te)\n",
    "print(np.shape(y_pred), np.shape(indices_te))\n",
    "create_csv_submission(indices_te, y_pred, 'submission_PCA_3.csv')"
   ]
  },
  {
   "cell_type": "code",
   "execution_count": null,
   "metadata": {},
   "outputs": [],
   "source": []
  }
 ],
 "metadata": {
  "kernelspec": {
   "display_name": "Python 3",
   "language": "python",
   "name": "python3"
  },
  "language_info": {
   "codemirror_mode": {
    "name": "ipython",
    "version": 3
   },
   "file_extension": ".py",
   "mimetype": "text/x-python",
   "name": "python",
   "nbconvert_exporter": "python",
   "pygments_lexer": "ipython3",
   "version": "3.6.5"
  }
 },
 "nbformat": 4,
 "nbformat_minor": 2
}
